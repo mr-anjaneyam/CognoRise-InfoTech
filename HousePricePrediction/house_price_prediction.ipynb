{
  "cells": [
    {
      "cell_type": "markdown",
      "metadata": {
        "colab_type": "text",
        "id": "view-in-github"
      },
      "source": [
        "<a href=\"https://colab.research.google.com/github/asdevika2001/COGNORISE/blob/main/house_price_prediction.ipynb\" target=\"_parent\"><img src=\"https://colab.research.google.com/assets/colab-badge.svg\" alt=\"Open In Colab\"/></a>"
      ]
    },
    {
      "cell_type": "markdown",
      "id": "KqA9YB7f05A0",
      "metadata": {
        "id": "KqA9YB7f05A0",
        "papermill": {
          "duration": 0.009186,
          "end_time": "2022-06-02T06:04:41.543112",
          "exception": false,
          "start_time": "2022-06-02T06:04:41.533926",
          "status": "completed"
        },
        "tags": []
      },
      "source": [
        "## **Import Needed Libraries**"
      ]
    },
    {
      "cell_type": "code",
      "execution_count": 1,
      "id": "ac02345f",
      "metadata": {},
      "outputs": [
        {
          "name": "stdout",
          "output_type": "stream",
          "text": [
            "Requirement already satisfied: category_encoders in c:\\users\\sri\\appdata\\local\\programs\\python\\python311\\lib\\site-packages (2.6.3)\n",
            "Requirement already satisfied: numpy>=1.14.0 in c:\\users\\sri\\appdata\\local\\programs\\python\\python311\\lib\\site-packages (from category_encoders) (1.26.4)\n",
            "Requirement already satisfied: scikit-learn>=0.20.0 in c:\\users\\sri\\appdata\\local\\programs\\python\\python311\\lib\\site-packages (from category_encoders) (1.4.2)\n",
            "Requirement already satisfied: scipy>=1.0.0 in c:\\users\\sri\\appdata\\local\\programs\\python\\python311\\lib\\site-packages (from category_encoders) (1.13.0)\n",
            "Requirement already satisfied: statsmodels>=0.9.0 in c:\\users\\sri\\appdata\\local\\programs\\python\\python311\\lib\\site-packages (from category_encoders) (0.14.2)\n",
            "Requirement already satisfied: pandas>=1.0.5 in c:\\users\\sri\\appdata\\local\\programs\\python\\python311\\lib\\site-packages (from category_encoders) (2.2.0)\n",
            "Requirement already satisfied: patsy>=0.5.1 in c:\\users\\sri\\appdata\\local\\programs\\python\\python311\\lib\\site-packages (from category_encoders) (0.5.6)\n",
            "Requirement already satisfied: python-dateutil>=2.8.2 in c:\\users\\sri\\appdata\\local\\programs\\python\\python311\\lib\\site-packages (from pandas>=1.0.5->category_encoders) (2.8.2)\n",
            "Requirement already satisfied: pytz>=2020.1 in c:\\users\\sri\\appdata\\local\\programs\\python\\python311\\lib\\site-packages (from pandas>=1.0.5->category_encoders) (2024.1)\n",
            "Requirement already satisfied: tzdata>=2022.7 in c:\\users\\sri\\appdata\\local\\programs\\python\\python311\\lib\\site-packages (from pandas>=1.0.5->category_encoders) (2023.4)\n",
            "Requirement already satisfied: six in c:\\users\\sri\\appdata\\local\\programs\\python\\python311\\lib\\site-packages (from patsy>=0.5.1->category_encoders) (1.16.0)\n",
            "Requirement already satisfied: joblib>=1.2.0 in c:\\users\\sri\\appdata\\local\\programs\\python\\python311\\lib\\site-packages (from scikit-learn>=0.20.0->category_encoders) (1.4.0)\n",
            "Requirement already satisfied: threadpoolctl>=2.0.0 in c:\\users\\sri\\appdata\\local\\programs\\python\\python311\\lib\\site-packages (from scikit-learn>=0.20.0->category_encoders) (3.4.0)\n",
            "Requirement already satisfied: packaging>=21.3 in c:\\users\\sri\\appdata\\local\\programs\\python\\python311\\lib\\site-packages (from statsmodels>=0.9.0->category_encoders) (23.2)\n",
            "Note: you may need to restart the kernel to use updated packages.\n"
          ]
        },
        {
          "name": "stderr",
          "output_type": "stream",
          "text": [
            "\n",
            "[notice] A new release of pip is available: 23.3.2 -> 24.0\n",
            "[notice] To update, run: python.exe -m pip install --upgrade pip\n"
          ]
        }
      ],
      "source": [
        "pip install category_encoders"
      ]
    },
    {
      "cell_type": "code",
      "execution_count": 2,
      "id": "Wp6SE9qa05A2",
      "metadata": {
        "colab": {
          "base_uri": "https://localhost:8080/"
        },
        "execution": {
          "iopub.execute_input": "2024-02-17T18:34:45.802049Z",
          "iopub.status.busy": "2024-02-17T18:34:45.801633Z",
          "iopub.status.idle": "2024-02-17T18:34:47.838356Z",
          "shell.execute_reply": "2024-02-17T18:34:47.837307Z",
          "shell.execute_reply.started": "2024-02-17T18:34:45.802019Z"
        },
        "id": "Wp6SE9qa05A2",
        "outputId": "5d20c644-9de9-499f-9e9a-5be4a63a0288",
        "papermill": {
          "duration": 1.128668,
          "end_time": "2022-06-02T06:04:42.680401",
          "exception": false,
          "start_time": "2022-06-02T06:04:41.551733",
          "status": "completed"
        },
        "tags": [],
        "trusted": true
      },
      "outputs": [],
      "source": [
        "import numpy as np\n",
        "import pandas as pd\n",
        "import matplotlib.pyplot as plt\n",
        "plt.style.use('ggplot')\n",
        "import seaborn as sns\n",
        "from scipy import stats\n",
        "\n",
        "from sklearn.feature_selection import mutual_info_regression\n",
        "from sklearn.model_selection import train_test_split\n",
        "from category_encoders import MEstimateEncoder\n",
        "\n",
        "from sklearn.linear_model import LinearRegression\n",
        "\n",
        "from sklearn.metrics import mean_absolute_error,mean_squared_error,r2_score\n",
        "\n",
        "# Ignore Warnings\n",
        "import warnings\n",
        "warnings.filterwarnings(\"ignore\")"
      ]
    },
    {
      "cell_type": "markdown",
      "id": "7WJ4kde105A3",
      "metadata": {
        "id": "7WJ4kde105A3",
        "papermill": {
          "duration": 0.007818,
          "end_time": "2022-06-02T06:04:42.696917",
          "exception": false,
          "start_time": "2022-06-02T06:04:42.689099",
          "status": "completed"
        },
        "tags": []
      },
      "source": [
        "# **EDA and Preprocessing**"
      ]
    },
    {
      "cell_type": "code",
      "execution_count": 3,
      "id": "Ks0dEgof05A3",
      "metadata": {
        "execution": {
          "iopub.execute_input": "2024-02-17T18:34:47.841033Z",
          "iopub.status.busy": "2024-02-17T18:34:47.840391Z",
          "iopub.status.idle": "2024-02-17T18:34:47.890084Z",
          "shell.execute_reply": "2024-02-17T18:34:47.888915Z",
          "shell.execute_reply.started": "2024-02-17T18:34:47.840993Z"
        },
        "id": "Ks0dEgof05A3",
        "papermill": {
          "duration": 0.050346,
          "end_time": "2022-06-02T06:04:42.755771",
          "exception": false,
          "start_time": "2022-06-02T06:04:42.705425",
          "status": "completed"
        },
        "tags": [],
        "trusted": true
      },
      "outputs": [],
      "source": [
        "df = pd.read_csv('data.csv')"
      ]
    },
    {
      "cell_type": "code",
      "execution_count": 4,
      "id": "1oMFL5rg05A3",
      "metadata": {
        "colab": {
          "base_uri": "https://localhost:8080/",
          "height": 417
        },
        "execution": {
          "iopub.execute_input": "2024-02-17T18:34:47.891711Z",
          "iopub.status.busy": "2024-02-17T18:34:47.891283Z",
          "iopub.status.idle": "2024-02-17T18:34:47.921996Z",
          "shell.execute_reply": "2024-02-17T18:34:47.921109Z",
          "shell.execute_reply.started": "2024-02-17T18:34:47.891674Z"
        },
        "id": "1oMFL5rg05A3",
        "outputId": "8f99ef57-ed93-4f8b-a64e-013c5c6ac0c5",
        "papermill": {
          "duration": 0.03658,
          "end_time": "2022-06-02T06:04:42.800382",
          "exception": false,
          "start_time": "2022-06-02T06:04:42.763802",
          "status": "completed"
        },
        "tags": [],
        "trusted": true
      },
      "outputs": [
        {
          "data": {
            "text/html": [
              "<div>\n",
              "<style scoped>\n",
              "    .dataframe tbody tr th:only-of-type {\n",
              "        vertical-align: middle;\n",
              "    }\n",
              "\n",
              "    .dataframe tbody tr th {\n",
              "        vertical-align: top;\n",
              "    }\n",
              "\n",
              "    .dataframe thead th {\n",
              "        text-align: right;\n",
              "    }\n",
              "</style>\n",
              "<table border=\"1\" class=\"dataframe\">\n",
              "  <thead>\n",
              "    <tr style=\"text-align: right;\">\n",
              "      <th></th>\n",
              "      <th>date</th>\n",
              "      <th>price</th>\n",
              "      <th>bedrooms</th>\n",
              "      <th>bathrooms</th>\n",
              "      <th>sqft_living</th>\n",
              "      <th>sqft_lot</th>\n",
              "      <th>floors</th>\n",
              "      <th>waterfront</th>\n",
              "      <th>view</th>\n",
              "      <th>condition</th>\n",
              "      <th>sqft_above</th>\n",
              "      <th>sqft_basement</th>\n",
              "      <th>yr_built</th>\n",
              "      <th>yr_renovated</th>\n",
              "      <th>street</th>\n",
              "      <th>city</th>\n",
              "      <th>statezip</th>\n",
              "      <th>country</th>\n",
              "    </tr>\n",
              "  </thead>\n",
              "  <tbody>\n",
              "    <tr>\n",
              "      <th>0</th>\n",
              "      <td>2014-05-02 00:00:00</td>\n",
              "      <td>313000.0</td>\n",
              "      <td>3.0</td>\n",
              "      <td>1.50</td>\n",
              "      <td>1340</td>\n",
              "      <td>7912</td>\n",
              "      <td>1.5</td>\n",
              "      <td>0</td>\n",
              "      <td>0</td>\n",
              "      <td>3</td>\n",
              "      <td>1340</td>\n",
              "      <td>0</td>\n",
              "      <td>1955</td>\n",
              "      <td>2005</td>\n",
              "      <td>18810 Densmore Ave N</td>\n",
              "      <td>Shoreline</td>\n",
              "      <td>WA 98133</td>\n",
              "      <td>USA</td>\n",
              "    </tr>\n",
              "    <tr>\n",
              "      <th>1</th>\n",
              "      <td>2014-05-02 00:00:00</td>\n",
              "      <td>2384000.0</td>\n",
              "      <td>5.0</td>\n",
              "      <td>2.50</td>\n",
              "      <td>3650</td>\n",
              "      <td>9050</td>\n",
              "      <td>2.0</td>\n",
              "      <td>0</td>\n",
              "      <td>4</td>\n",
              "      <td>5</td>\n",
              "      <td>3370</td>\n",
              "      <td>280</td>\n",
              "      <td>1921</td>\n",
              "      <td>0</td>\n",
              "      <td>709 W Blaine St</td>\n",
              "      <td>Seattle</td>\n",
              "      <td>WA 98119</td>\n",
              "      <td>USA</td>\n",
              "    </tr>\n",
              "    <tr>\n",
              "      <th>2</th>\n",
              "      <td>2014-05-02 00:00:00</td>\n",
              "      <td>342000.0</td>\n",
              "      <td>3.0</td>\n",
              "      <td>2.00</td>\n",
              "      <td>1930</td>\n",
              "      <td>11947</td>\n",
              "      <td>1.0</td>\n",
              "      <td>0</td>\n",
              "      <td>0</td>\n",
              "      <td>4</td>\n",
              "      <td>1930</td>\n",
              "      <td>0</td>\n",
              "      <td>1966</td>\n",
              "      <td>0</td>\n",
              "      <td>26206-26214 143rd Ave SE</td>\n",
              "      <td>Kent</td>\n",
              "      <td>WA 98042</td>\n",
              "      <td>USA</td>\n",
              "    </tr>\n",
              "    <tr>\n",
              "      <th>3</th>\n",
              "      <td>2014-05-02 00:00:00</td>\n",
              "      <td>420000.0</td>\n",
              "      <td>3.0</td>\n",
              "      <td>2.25</td>\n",
              "      <td>2000</td>\n",
              "      <td>8030</td>\n",
              "      <td>1.0</td>\n",
              "      <td>0</td>\n",
              "      <td>0</td>\n",
              "      <td>4</td>\n",
              "      <td>1000</td>\n",
              "      <td>1000</td>\n",
              "      <td>1963</td>\n",
              "      <td>0</td>\n",
              "      <td>857 170th Pl NE</td>\n",
              "      <td>Bellevue</td>\n",
              "      <td>WA 98008</td>\n",
              "      <td>USA</td>\n",
              "    </tr>\n",
              "    <tr>\n",
              "      <th>4</th>\n",
              "      <td>2014-05-02 00:00:00</td>\n",
              "      <td>550000.0</td>\n",
              "      <td>4.0</td>\n",
              "      <td>2.50</td>\n",
              "      <td>1940</td>\n",
              "      <td>10500</td>\n",
              "      <td>1.0</td>\n",
              "      <td>0</td>\n",
              "      <td>0</td>\n",
              "      <td>4</td>\n",
              "      <td>1140</td>\n",
              "      <td>800</td>\n",
              "      <td>1976</td>\n",
              "      <td>1992</td>\n",
              "      <td>9105 170th Ave NE</td>\n",
              "      <td>Redmond</td>\n",
              "      <td>WA 98052</td>\n",
              "      <td>USA</td>\n",
              "    </tr>\n",
              "  </tbody>\n",
              "</table>\n",
              "</div>"
            ],
            "text/plain": [
              "                  date      price  bedrooms  bathrooms  sqft_living  sqft_lot  \\\n",
              "0  2014-05-02 00:00:00   313000.0       3.0       1.50         1340      7912   \n",
              "1  2014-05-02 00:00:00  2384000.0       5.0       2.50         3650      9050   \n",
              "2  2014-05-02 00:00:00   342000.0       3.0       2.00         1930     11947   \n",
              "3  2014-05-02 00:00:00   420000.0       3.0       2.25         2000      8030   \n",
              "4  2014-05-02 00:00:00   550000.0       4.0       2.50         1940     10500   \n",
              "\n",
              "   floors  waterfront  view  condition  sqft_above  sqft_basement  yr_built  \\\n",
              "0     1.5           0     0          3        1340              0      1955   \n",
              "1     2.0           0     4          5        3370            280      1921   \n",
              "2     1.0           0     0          4        1930              0      1966   \n",
              "3     1.0           0     0          4        1000           1000      1963   \n",
              "4     1.0           0     0          4        1140            800      1976   \n",
              "\n",
              "   yr_renovated                    street       city  statezip country  \n",
              "0          2005      18810 Densmore Ave N  Shoreline  WA 98133     USA  \n",
              "1             0           709 W Blaine St    Seattle  WA 98119     USA  \n",
              "2             0  26206-26214 143rd Ave SE       Kent  WA 98042     USA  \n",
              "3             0           857 170th Pl NE   Bellevue  WA 98008     USA  \n",
              "4          1992         9105 170th Ave NE    Redmond  WA 98052     USA  "
            ]
          },
          "execution_count": 4,
          "metadata": {},
          "output_type": "execute_result"
        }
      ],
      "source": [
        "df.head()"
      ]
    },
    {
      "cell_type": "code",
      "execution_count": 5,
      "id": "9C6C4cV005A3",
      "metadata": {
        "colab": {
          "base_uri": "https://localhost:8080/"
        },
        "execution": {
          "iopub.execute_input": "2024-02-17T18:34:47.925104Z",
          "iopub.status.busy": "2024-02-17T18:34:47.924300Z",
          "iopub.status.idle": "2024-02-17T18:34:47.954178Z",
          "shell.execute_reply": "2024-02-17T18:34:47.953017Z",
          "shell.execute_reply.started": "2024-02-17T18:34:47.925074Z"
        },
        "id": "9C6C4cV005A3",
        "outputId": "4639a8d3-db1b-4922-f526-cbd21df7a941",
        "papermill": {
          "duration": 0.038722,
          "end_time": "2022-06-02T06:04:42.847449",
          "exception": false,
          "start_time": "2022-06-02T06:04:42.808727",
          "status": "completed"
        },
        "tags": [],
        "trusted": true
      },
      "outputs": [
        {
          "name": "stdout",
          "output_type": "stream",
          "text": [
            "<class 'pandas.core.frame.DataFrame'>\n",
            "RangeIndex: 4600 entries, 0 to 4599\n",
            "Data columns (total 18 columns):\n",
            " #   Column         Non-Null Count  Dtype  \n",
            "---  ------         --------------  -----  \n",
            " 0   date           4600 non-null   object \n",
            " 1   price          4600 non-null   float64\n",
            " 2   bedrooms       4600 non-null   float64\n",
            " 3   bathrooms      4600 non-null   float64\n",
            " 4   sqft_living    4600 non-null   int64  \n",
            " 5   sqft_lot       4600 non-null   int64  \n",
            " 6   floors         4600 non-null   float64\n",
            " 7   waterfront     4600 non-null   int64  \n",
            " 8   view           4600 non-null   int64  \n",
            " 9   condition      4600 non-null   int64  \n",
            " 10  sqft_above     4600 non-null   int64  \n",
            " 11  sqft_basement  4600 non-null   int64  \n",
            " 12  yr_built       4600 non-null   int64  \n",
            " 13  yr_renovated   4600 non-null   int64  \n",
            " 14  street         4600 non-null   object \n",
            " 15  city           4600 non-null   object \n",
            " 16  statezip       4600 non-null   object \n",
            " 17  country        4600 non-null   object \n",
            "dtypes: float64(4), int64(9), object(5)\n",
            "memory usage: 647.0+ KB\n"
          ]
        }
      ],
      "source": [
        "df.info()"
      ]
    },
    {
      "cell_type": "markdown",
      "id": "qx9_xBwX05A3",
      "metadata": {
        "id": "qx9_xBwX05A3",
        "papermill": {
          "duration": 0.008279,
          "end_time": "2022-06-02T06:04:42.894492",
          "exception": false,
          "start_time": "2022-06-02T06:04:42.886213",
          "status": "completed"
        },
        "tags": []
      },
      "source": [
        "**Let's plot some graph to get the idea which features dominate our target.**"
      ]
    },
    {
      "cell_type": "code",
      "execution_count": 6,
      "id": "y8_RWvX205A3",
      "metadata": {
        "colab": {
          "base_uri": "https://localhost:8080/",
          "height": 453
        },
        "execution": {
          "iopub.execute_input": "2024-02-17T18:34:47.956393Z",
          "iopub.status.busy": "2024-02-17T18:34:47.955913Z",
          "iopub.status.idle": "2024-02-17T18:34:48.316204Z",
          "shell.execute_reply": "2024-02-17T18:34:48.314933Z",
          "shell.execute_reply.started": "2024-02-17T18:34:47.956354Z"
        },
        "id": "y8_RWvX205A3",
        "outputId": "134a2255-9b8c-485d-ab8d-23845f4ac9a9",
        "papermill": {
          "duration": 0.298328,
          "end_time": "2022-06-02T06:04:43.226411",
          "exception": false,
          "start_time": "2022-06-02T06:04:42.928083",
          "status": "completed"
        },
        "tags": [],
        "trusted": true
      },
      "outputs": [
        {
          "data": {
            "image/png": "[encoded data removed]",
            "text/plain": [
              "<Figure size 640x480 with 1 Axes>"
            ]
          },
          "metadata": {},
          "output_type": "display_data"
        }
      ],
      "source": [
        "sns.kdeplot(df['price'].apply(np.log1p), fill=True)\n",
        "plt.show()"
      ]
    },
    {
      "cell_type": "code",
      "execution_count": 7,
      "id": "27xS-big05A3",
      "metadata": {
        "execution": {
          "iopub.execute_input": "2024-02-17T18:34:48.317897Z",
          "iopub.status.busy": "2024-02-17T18:34:48.317537Z",
          "iopub.status.idle": "2024-02-17T18:34:48.325897Z",
          "shell.execute_reply": "2024-02-17T18:34:48.324421Z",
          "shell.execute_reply.started": "2024-02-17T18:34:48.317869Z"
        },
        "id": "27xS-big05A3",
        "papermill": {
          "duration": 0.030925,
          "end_time": "2022-06-02T06:05:17.783912",
          "exception": false,
          "start_time": "2022-06-02T06:05:17.752987",
          "status": "completed"
        },
        "tags": [],
        "trusted": true
      },
      "outputs": [],
      "source": [
        "def make_mi_score(x,y):\n",
        "    x = x.copy()\n",
        "    for colname in x.select_dtypes(['object','category']):\n",
        "        x[colname], _ = x[colname].factorize()\n",
        "\n",
        "    discrete_features = [pd.api.types.is_integer_dtype(t) for t in x.dtypes]\n",
        "    mi_score = mutual_info_regression(x, y, discrete_features=discrete_features, random_state=42)\n",
        "    mi_score = pd.Series(mi_score, name='Mutual Information Score', index=x.columns)\n",
        "    mi_score = mi_score.sort_values(ascending=False)\n",
        "    return mi_score"
      ]
    },
    {
      "cell_type": "code",
      "execution_count": 8,
      "id": "QV7_TfN505A4",
      "metadata": {
        "colab": {
          "base_uri": "https://localhost:8080/"
        },
        "execution": {
          "iopub.execute_input": "2024-02-17T18:34:48.327967Z",
          "iopub.status.busy": "2024-02-17T18:34:48.327510Z",
          "iopub.status.idle": "2024-02-17T18:34:50.892413Z",
          "shell.execute_reply": "2024-02-17T18:34:50.891213Z",
          "shell.execute_reply.started": "2024-02-17T18:34:48.327932Z"
        },
        "id": "QV7_TfN505A4",
        "outputId": "f9e110d9-d114-43c3-9ca4-13ba70f09b2d",
        "papermill": {
          "duration": 1.835203,
          "end_time": "2022-06-02T06:05:19.640441",
          "exception": false,
          "start_time": "2022-06-02T06:05:17.805238",
          "status": "completed"
        },
        "tags": [],
        "trusted": true
      },
      "outputs": [
        {
          "data": {
            "text/plain": [
              "street           1.187259\n",
              "statezip         0.453802\n",
              "city             0.315389\n",
              "sqft_living      0.298434\n",
              "sqft_above       0.200396\n",
              "bathrooms        0.184815\n",
              "sqft_lot         0.145104\n",
              "bedrooms         0.080524\n",
              "yr_built         0.075527\n",
              "floors           0.053934\n",
              "view             0.050866\n",
              "sqft_basement    0.046252\n",
              "yr_renovated     0.011067\n",
              "waterfront       0.005997\n",
              "date             0.005088\n",
              "condition        0.001126\n",
              "country          0.000000\n",
              "Name: Mutual Information Score, dtype: float64"
            ]
          },
          "execution_count": 8,
          "metadata": {},
          "output_type": "execute_result"
        }
      ],
      "source": [
        "X = df.drop(columns=['price'])\n",
        "y = df[['price']]\n",
        "\n",
        "mi_score = make_mi_score(X, y)\n",
        "mi_score"
      ]
    },
    {
      "cell_type": "code",
      "execution_count": 9,
      "id": "ffLc60Uq05A4",
      "metadata": {
        "colab": {
          "base_uri": "https://localhost:8080/",
          "height": 453
        },
        "execution": {
          "iopub.execute_input": "2024-02-17T18:34:50.894435Z",
          "iopub.status.busy": "2024-02-17T18:34:50.893971Z",
          "iopub.status.idle": "2024-02-17T18:34:51.271577Z",
          "shell.execute_reply": "2024-02-17T18:34:51.269925Z",
          "shell.execute_reply.started": "2024-02-17T18:34:50.894398Z"
        },
        "id": "ffLc60Uq05A4",
        "outputId": "a8023eab-f78f-416a-d82b-ea12d369594e",
        "papermill": {
          "duration": 0.267335,
          "end_time": "2022-06-02T06:05:19.929557",
          "exception": false,
          "start_time": "2022-06-02T06:05:19.662222",
          "status": "completed"
        },
        "tags": [],
        "trusted": true
      },
      "outputs": [
        {
          "data": {
            "image/png": "[encoded data removed]",
            "text/plain": [
              "<Figure size 640x480 with 1 Axes>"
            ]
          },
          "metadata": {},
          "output_type": "display_data"
        }
      ],
      "source": [
        "def plot_mi_score(score):\n",
        "    score = score.sort_values(ascending = True)\n",
        "    width = np.arange(len(score))\n",
        "    ticks = list(score.index)\n",
        "    plt.barh(width,score)\n",
        "    plt.yticks(width,ticks)\n",
        "    plt.title('Mutual Information Score')\n",
        "\n",
        "plot_mi_score(mi_score)"
      ]
    },
    {
      "cell_type": "code",
      "execution_count": 10,
      "id": "_GYTGI5605A4",
      "metadata": {
        "execution": {
          "iopub.execute_input": "2024-02-17T18:34:51.273964Z",
          "iopub.status.busy": "2024-02-17T18:34:51.273556Z",
          "iopub.status.idle": "2024-02-17T18:34:51.280877Z",
          "shell.execute_reply": "2024-02-17T18:34:51.279722Z",
          "shell.execute_reply.started": "2024-02-17T18:34:51.273932Z"
        },
        "id": "_GYTGI5605A4",
        "papermill": {
          "duration": 0.032057,
          "end_time": "2022-06-02T06:05:19.984007",
          "exception": false,
          "start_time": "2022-06-02T06:05:19.951950",
          "status": "completed"
        },
        "tags": [],
        "trusted": true
      },
      "outputs": [],
      "source": [
        "df = df[['street','statezip','city','sqft_living','sqft_above','bathrooms','yr_built','sqft_lot','bedrooms']]"
      ]
    },
    {
      "cell_type": "code",
      "execution_count": 11,
      "id": "2bN3UpmI05A4",
      "metadata": {
        "colab": {
          "base_uri": "https://localhost:8080/",
          "height": 423
        },
        "execution": {
          "iopub.execute_input": "2024-02-17T18:34:51.286450Z",
          "iopub.status.busy": "2024-02-17T18:34:51.286036Z",
          "iopub.status.idle": "2024-02-17T18:34:51.308392Z",
          "shell.execute_reply": "2024-02-17T18:34:51.307137Z",
          "shell.execute_reply.started": "2024-02-17T18:34:51.286422Z"
        },
        "id": "2bN3UpmI05A4",
        "outputId": "81927024-e525-4b4c-b4e1-ce3e6326c8eb",
        "papermill": {
          "duration": 0.045169,
          "end_time": "2022-06-02T06:05:20.051253",
          "exception": false,
          "start_time": "2022-06-02T06:05:20.006084",
          "status": "completed"
        },
        "tags": [],
        "trusted": true
      },
      "outputs": [
        {
          "data": {
            "text/html": [
              "<div>\n",
              "<style scoped>\n",
              "    .dataframe tbody tr th:only-of-type {\n",
              "        vertical-align: middle;\n",
              "    }\n",
              "\n",
              "    .dataframe tbody tr th {\n",
              "        vertical-align: top;\n",
              "    }\n",
              "\n",
              "    .dataframe thead th {\n",
              "        text-align: right;\n",
              "    }\n",
              "</style>\n",
              "<table border=\"1\" class=\"dataframe\">\n",
              "  <thead>\n",
              "    <tr style=\"text-align: right;\">\n",
              "      <th></th>\n",
              "      <th>street</th>\n",
              "      <th>statezip</th>\n",
              "      <th>city</th>\n",
              "      <th>sqft_living</th>\n",
              "      <th>sqft_above</th>\n",
              "      <th>bathrooms</th>\n",
              "      <th>yr_built</th>\n",
              "      <th>sqft_lot</th>\n",
              "      <th>bedrooms</th>\n",
              "    </tr>\n",
              "  </thead>\n",
              "  <tbody>\n",
              "    <tr>\n",
              "      <th>0</th>\n",
              "      <td>18810 Densmore Ave N</td>\n",
              "      <td>WA 98133</td>\n",
              "      <td>Shoreline</td>\n",
              "      <td>1340</td>\n",
              "      <td>1340</td>\n",
              "      <td>1.50</td>\n",
              "      <td>1955</td>\n",
              "      <td>7912</td>\n",
              "      <td>3.0</td>\n",
              "    </tr>\n",
              "    <tr>\n",
              "      <th>1</th>\n",
              "      <td>709 W Blaine St</td>\n",
              "      <td>WA 98119</td>\n",
              "      <td>Seattle</td>\n",
              "      <td>3650</td>\n",
              "      <td>3370</td>\n",
              "      <td>2.50</td>\n",
              "      <td>1921</td>\n",
              "      <td>9050</td>\n",
              "      <td>5.0</td>\n",
              "    </tr>\n",
              "    <tr>\n",
              "      <th>2</th>\n",
              "      <td>26206-26214 143rd Ave SE</td>\n",
              "      <td>WA 98042</td>\n",
              "      <td>Kent</td>\n",
              "      <td>1930</td>\n",
              "      <td>1930</td>\n",
              "      <td>2.00</td>\n",
              "      <td>1966</td>\n",
              "      <td>11947</td>\n",
              "      <td>3.0</td>\n",
              "    </tr>\n",
              "    <tr>\n",
              "      <th>3</th>\n",
              "      <td>857 170th Pl NE</td>\n",
              "      <td>WA 98008</td>\n",
              "      <td>Bellevue</td>\n",
              "      <td>2000</td>\n",
              "      <td>1000</td>\n",
              "      <td>2.25</td>\n",
              "      <td>1963</td>\n",
              "      <td>8030</td>\n",
              "      <td>3.0</td>\n",
              "    </tr>\n",
              "    <tr>\n",
              "      <th>4</th>\n",
              "      <td>9105 170th Ave NE</td>\n",
              "      <td>WA 98052</td>\n",
              "      <td>Redmond</td>\n",
              "      <td>1940</td>\n",
              "      <td>1140</td>\n",
              "      <td>2.50</td>\n",
              "      <td>1976</td>\n",
              "      <td>10500</td>\n",
              "      <td>4.0</td>\n",
              "    </tr>\n",
              "    <tr>\n",
              "      <th>...</th>\n",
              "      <td>...</td>\n",
              "      <td>...</td>\n",
              "      <td>...</td>\n",
              "      <td>...</td>\n",
              "      <td>...</td>\n",
              "      <td>...</td>\n",
              "      <td>...</td>\n",
              "      <td>...</td>\n",
              "      <td>...</td>\n",
              "    </tr>\n",
              "    <tr>\n",
              "      <th>4595</th>\n",
              "      <td>501 N 143rd St</td>\n",
              "      <td>WA 98133</td>\n",
              "      <td>Seattle</td>\n",
              "      <td>1510</td>\n",
              "      <td>1510</td>\n",
              "      <td>1.75</td>\n",
              "      <td>1954</td>\n",
              "      <td>6360</td>\n",
              "      <td>3.0</td>\n",
              "    </tr>\n",
              "    <tr>\n",
              "      <th>4596</th>\n",
              "      <td>14855 SE 10th Pl</td>\n",
              "      <td>WA 98007</td>\n",
              "      <td>Bellevue</td>\n",
              "      <td>1460</td>\n",
              "      <td>1460</td>\n",
              "      <td>2.50</td>\n",
              "      <td>1983</td>\n",
              "      <td>7573</td>\n",
              "      <td>3.0</td>\n",
              "    </tr>\n",
              "    <tr>\n",
              "      <th>4597</th>\n",
              "      <td>759 Ilwaco Pl NE</td>\n",
              "      <td>WA 98059</td>\n",
              "      <td>Renton</td>\n",
              "      <td>3010</td>\n",
              "      <td>3010</td>\n",
              "      <td>2.50</td>\n",
              "      <td>2009</td>\n",
              "      <td>7014</td>\n",
              "      <td>3.0</td>\n",
              "    </tr>\n",
              "    <tr>\n",
              "      <th>4598</th>\n",
              "      <td>5148 S Creston St</td>\n",
              "      <td>WA 98178</td>\n",
              "      <td>Seattle</td>\n",
              "      <td>2090</td>\n",
              "      <td>1070</td>\n",
              "      <td>2.00</td>\n",
              "      <td>1974</td>\n",
              "      <td>6630</td>\n",
              "      <td>4.0</td>\n",
              "    </tr>\n",
              "    <tr>\n",
              "      <th>4599</th>\n",
              "      <td>18717 SE 258th St</td>\n",
              "      <td>WA 98042</td>\n",
              "      <td>Covington</td>\n",
              "      <td>1490</td>\n",
              "      <td>1490</td>\n",
              "      <td>2.50</td>\n",
              "      <td>1990</td>\n",
              "      <td>8102</td>\n",
              "      <td>3.0</td>\n",
              "    </tr>\n",
              "  </tbody>\n",
              "</table>\n",
              "<p>4600 rows × 9 columns</p>\n",
              "</div>"
            ],
            "text/plain": [
              "                        street  statezip       city  sqft_living  sqft_above  \\\n",
              "0         18810 Densmore Ave N  WA 98133  Shoreline         1340        1340   \n",
              "1              709 W Blaine St  WA 98119    Seattle         3650        3370   \n",
              "2     26206-26214 143rd Ave SE  WA 98042       Kent         1930        1930   \n",
              "3              857 170th Pl NE  WA 98008   Bellevue         2000        1000   \n",
              "4            9105 170th Ave NE  WA 98052    Redmond         1940        1140   \n",
              "...                        ...       ...        ...          ...         ...   \n",
              "4595            501 N 143rd St  WA 98133    Seattle         1510        1510   \n",
              "4596          14855 SE 10th Pl  WA 98007   Bellevue         1460        1460   \n",
              "4597          759 Ilwaco Pl NE  WA 98059     Renton         3010        3010   \n",
              "4598         5148 S Creston St  WA 98178    Seattle         2090        1070   \n",
              "4599         18717 SE 258th St  WA 98042  Covington         1490        1490   \n",
              "\n",
              "      bathrooms  yr_built  sqft_lot  bedrooms  \n",
              "0          1.50      1955      7912       3.0  \n",
              "1          2.50      1921      9050       5.0  \n",
              "2          2.00      1966     11947       3.0  \n",
              "3          2.25      1963      8030       3.0  \n",
              "4          2.50      1976     10500       4.0  \n",
              "...         ...       ...       ...       ...  \n",
              "4595       1.75      1954      6360       3.0  \n",
              "4596       2.50      1983      7573       3.0  \n",
              "4597       2.50      2009      7014       3.0  \n",
              "4598       2.00      1974      6630       4.0  \n",
              "4599       2.50      1990      8102       3.0  \n",
              "\n",
              "[4600 rows x 9 columns]"
            ]
          },
          "execution_count": 11,
          "metadata": {},
          "output_type": "execute_result"
        }
      ],
      "source": [
        "df"
      ]
    },
    {
      "cell_type": "code",
      "execution_count": 12,
      "id": "Ebp-uRSF05A4",
      "metadata": {
        "execution": {
          "iopub.execute_input": "2024-02-17T18:34:51.310498Z",
          "iopub.status.busy": "2024-02-17T18:34:51.310017Z",
          "iopub.status.idle": "2024-02-17T18:34:51.317289Z",
          "shell.execute_reply": "2024-02-17T18:34:51.316342Z",
          "shell.execute_reply.started": "2024-02-17T18:34:51.310457Z"
        },
        "id": "Ebp-uRSF05A4",
        "papermill": {
          "duration": 0.036739,
          "end_time": "2022-06-02T06:05:20.111647",
          "exception": false,
          "start_time": "2022-06-02T06:05:20.074908",
          "status": "completed"
        },
        "tags": [],
        "trusted": true
      },
      "outputs": [],
      "source": [
        "df = df.join(y)"
      ]
    },
    {
      "cell_type": "code",
      "execution_count": 13,
      "id": "LGZIbdrQ05A4",
      "metadata": {
        "colab": {
          "base_uri": "https://localhost:8080/"
        },
        "execution": {
          "iopub.execute_input": "2024-02-17T18:34:51.319159Z",
          "iopub.status.busy": "2024-02-17T18:34:51.318754Z",
          "iopub.status.idle": "2024-02-17T18:34:51.342336Z",
          "shell.execute_reply": "2024-02-17T18:34:51.341113Z",
          "shell.execute_reply.started": "2024-02-17T18:34:51.319127Z"
        },
        "id": "LGZIbdrQ05A4",
        "outputId": "c6ec6c19-4c1a-47c4-c120-bffd3a464444",
        "papermill": {
          "duration": 0.044216,
          "end_time": "2022-06-02T06:05:20.227144",
          "exception": false,
          "start_time": "2022-06-02T06:05:20.182928",
          "status": "completed"
        },
        "tags": [],
        "trusted": true
      },
      "outputs": [
        {
          "name": "stdout",
          "output_type": "stream",
          "text": [
            "      sqft_living  sqft_above  bathrooms  yr_built  sqft_lot  bedrooms\n",
            "0        0.829971    0.565224   0.843204  0.531014  0.193434  0.441122\n",
            "1        1.568528    1.789559   0.432802  1.674693  0.161718  1.759705\n",
            "2        0.217367    0.119171   0.205201  0.161000  0.080978  0.441122\n",
            "3        0.144686    0.959621   0.113800  0.261913  0.190145  0.441122\n",
            "4        0.206984    0.797222   0.432802  0.175376  0.121306  0.659291\n",
            "...           ...         ...        ...       ...       ...       ...\n",
            "4595     0.653458    0.368025   0.524202  0.564651  0.236689  0.441122\n",
            "4596     0.705374    0.426025   0.432802  0.410840  0.202882  0.441122\n",
            "4597     0.904009    1.371962   0.432802  1.285418  0.218462  0.441122\n",
            "4598     0.051238    0.878421   0.205201  0.108101  0.229164  0.659291\n",
            "4599     0.674224    0.391225   0.432802  0.646303  0.188139  0.441122\n",
            "\n",
            "[4600 rows x 6 columns]\n"
          ]
        }
      ],
      "source": [
        "z = np.abs(stats.zscore(df[['sqft_living','sqft_above','bathrooms','yr_built','sqft_lot','bedrooms']]))\n",
        "print(z)"
      ]
    },
    {
      "cell_type": "code",
      "execution_count": 14,
      "id": "fh7ibImU05A4",
      "metadata": {
        "colab": {
          "base_uri": "https://localhost:8080/"
        },
        "execution": {
          "iopub.execute_input": "2024-02-17T18:34:51.346801Z",
          "iopub.status.busy": "2024-02-17T18:34:51.346428Z",
          "iopub.status.idle": "2024-02-17T18:34:51.356209Z",
          "shell.execute_reply": "2024-02-17T18:34:51.354995Z",
          "shell.execute_reply.started": "2024-02-17T18:34:51.346773Z"
        },
        "id": "fh7ibImU05A4",
        "outputId": "78a1bbf7-0633-40d4-c3b1-cb6d14103c3e",
        "papermill": {
          "duration": 0.038143,
          "end_time": "2022-06-02T06:05:20.339375",
          "exception": false,
          "start_time": "2022-06-02T06:05:20.301232",
          "status": "completed"
        },
        "tags": [],
        "trusted": true
      },
      "outputs": [
        {
          "name": "stdout",
          "output_type": "stream",
          "text": [
            "(array([  56,  107,  122,  122,  122,  122,  122,  217,  227,  233,  240,\n",
            "        241,  252,  252,  252,  254,  272,  291,  291,  375,  418,  418,\n",
            "        452,  461,  462,  462,  462,  462,  471,  479,  484,  495,  548,\n",
            "        575,  581,  581,  634,  634,  634,  675,  679,  743,  747,  779,\n",
            "        798,  839,  847,  878,  879,  999, 1017, 1031, 1078, 1089, 1103,\n",
            "       1128, 1130, 1132, 1132, 1182, 1182, 1209, 1209, 1209, 1261, 1265,\n",
            "       1272, 1275, 1275, 1301, 1302, 1302, 1360, 1390, 1406, 1408, 1411,\n",
            "       1417, 1417, 1424, 1455, 1479, 1500, 1539, 1567, 1567, 1571, 1602,\n",
            "       1637, 1644, 1722, 1762, 1786, 1944, 1952, 1952, 1962, 1962, 2005,\n",
            "       2005, 2152, 2155, 2157, 2199, 2226, 2279, 2286, 2286, 2300, 2316,\n",
            "       2328, 2328, 2328, 2365, 2401, 2480, 2551, 2588, 2654, 2654, 2654,\n",
            "       2717, 2725, 2731, 2731, 2731, 2731, 2761, 2761, 2846, 2846, 2855,\n",
            "       2872, 2889, 2917, 2967, 2967, 2967, 2968, 2980, 2980, 3004, 3004,\n",
            "       3004, 3004, 3046, 3056, 3099, 3117, 3122, 3125, 3202, 3202, 3202,\n",
            "       3209, 3209, 3235, 3260, 3346, 3349, 3349, 3353, 3370, 3389, 3402,\n",
            "       3448, 3470, 3487, 3512, 3525, 3559, 3559, 3660, 3671, 3700, 3729,\n",
            "       3729, 3770, 3770, 3770, 3775, 3781, 3894, 3906, 3906, 3911, 3939,\n",
            "       3972, 3980, 4032, 4032, 4061, 4061, 4088, 4091, 4135, 4135, 4135,\n",
            "       4138, 4138, 4138, 4233, 4234, 4243, 4246, 4266, 4273, 4273, 4277,\n",
            "       4283, 4283, 4283, 4353, 4369, 4374, 4383, 4385, 4387, 4398, 4400,\n",
            "       4432, 4432, 4523, 4528, 4575, 4575, 4575], dtype=int64), array([4, 4, 0, 1, 2, 4, 5, 1, 2, 1, 4, 5, 0, 1, 5, 4, 4, 2, 5, 4, 0, 1,\n",
            "       0, 4, 0, 1, 2, 4, 0, 4, 4, 4, 2, 5, 0, 1, 0, 1, 2, 1, 4, 5, 4, 4,\n",
            "       4, 0, 0, 4, 4, 4, 2, 4, 4, 1, 4, 1, 0, 0, 2, 0, 4, 0, 1, 2, 4, 4,\n",
            "       4, 1, 4, 1, 0, 1, 1, 4, 4, 4, 1, 0, 1, 4, 5, 5, 5, 4, 0, 1, 1, 0,\n",
            "       0, 5, 4, 4, 4, 4, 0, 2, 0, 4, 1, 2, 4, 4, 4, 4, 0, 2, 0, 1, 4, 1,\n",
            "       0, 1, 2, 5, 0, 4, 4, 4, 0, 1, 2, 5, 1, 0, 1, 2, 4, 0, 1, 0, 2, 4,\n",
            "       4, 4, 5, 0, 1, 4, 4, 0, 1, 0, 1, 2, 5, 5, 4, 4, 1, 4, 1, 0, 1, 2,\n",
            "       1, 5, 1, 4, 4, 0, 1, 4, 5, 1, 4, 4, 4, 4, 4, 4, 0, 1, 4, 4, 4, 0,\n",
            "       2, 0, 1, 2, 1, 2, 1, 0, 1, 5, 2, 4, 4, 0, 1, 1, 4, 4, 0, 0, 1, 2,\n",
            "       0, 1, 4, 1, 4, 5, 2, 4, 0, 2, 0, 0, 1, 4, 4, 4, 4, 1, 0, 4, 0, 1,\n",
            "       0, 1, 0, 2, 0, 1, 2], dtype=int64))\n"
          ]
        }
      ],
      "source": [
        "threshold = 3\n",
        "print(np.where(z > 3))"
      ]
    },
    {
      "cell_type": "code",
      "execution_count": 15,
      "id": "tAfNQHb805A5",
      "metadata": {
        "execution": {
          "iopub.execute_input": "2024-02-17T18:34:51.357992Z",
          "iopub.status.busy": "2024-02-17T18:34:51.357602Z",
          "iopub.status.idle": "2024-02-17T18:34:51.372015Z",
          "shell.execute_reply": "2024-02-17T18:34:51.371032Z",
          "shell.execute_reply.started": "2024-02-17T18:34:51.357963Z"
        },
        "id": "tAfNQHb805A5",
        "papermill": {
          "duration": 0.032701,
          "end_time": "2022-06-02T06:05:20.442612",
          "exception": false,
          "start_time": "2022-06-02T06:05:20.409911",
          "status": "completed"
        },
        "tags": [],
        "trusted": true
      },
      "outputs": [],
      "source": [
        "df = df[(z < 3).all(axis=1)]"
      ]
    },
    {
      "cell_type": "code",
      "execution_count": 16,
      "id": "hd3JgUKK05A5",
      "metadata": {
        "colab": {
          "base_uri": "https://localhost:8080/"
        },
        "execution": {
          "iopub.execute_input": "2024-02-17T18:34:51.374127Z",
          "iopub.status.busy": "2024-02-17T18:34:51.373741Z",
          "iopub.status.idle": "2024-02-17T18:34:51.387466Z",
          "shell.execute_reply": "2024-02-17T18:34:51.386525Z",
          "shell.execute_reply.started": "2024-02-17T18:34:51.374097Z"
        },
        "id": "hd3JgUKK05A5",
        "outputId": "cb2e146a-7cdb-4e57-8e86-e58c38dbcded",
        "papermill": {
          "duration": 0.032023,
          "end_time": "2022-06-02T06:05:20.497950",
          "exception": false,
          "start_time": "2022-06-02T06:05:20.465927",
          "status": "completed"
        },
        "tags": [],
        "trusted": true
      },
      "outputs": [
        {
          "data": {
            "text/plain": [
              "(4435, 10)"
            ]
          },
          "execution_count": 16,
          "metadata": {},
          "output_type": "execute_result"
        }
      ],
      "source": [
        "df.shape"
      ]
    },
    {
      "cell_type": "code",
      "execution_count": 17,
      "id": "lmOAt8Ed05A5",
      "metadata": {
        "colab": {
          "base_uri": "https://localhost:8080/",
          "height": 206
        },
        "execution": {
          "iopub.execute_input": "2024-02-17T18:34:51.388945Z",
          "iopub.status.busy": "2024-02-17T18:34:51.388537Z",
          "iopub.status.idle": "2024-02-17T18:34:51.410109Z",
          "shell.execute_reply": "2024-02-17T18:34:51.408940Z",
          "shell.execute_reply.started": "2024-02-17T18:34:51.388903Z"
        },
        "id": "lmOAt8Ed05A5",
        "outputId": "fd927054-2f65-4ef0-d47b-94efa9e3ddc4",
        "papermill": {
          "duration": 0.04014,
          "end_time": "2022-06-02T06:05:20.561597",
          "exception": false,
          "start_time": "2022-06-02T06:05:20.521457",
          "status": "completed"
        },
        "tags": [],
        "trusted": true
      },
      "outputs": [
        {
          "data": {
            "text/html": [
              "<div>\n",
              "<style scoped>\n",
              "    .dataframe tbody tr th:only-of-type {\n",
              "        vertical-align: middle;\n",
              "    }\n",
              "\n",
              "    .dataframe tbody tr th {\n",
              "        vertical-align: top;\n",
              "    }\n",
              "\n",
              "    .dataframe thead th {\n",
              "        text-align: right;\n",
              "    }\n",
              "</style>\n",
              "<table border=\"1\" class=\"dataframe\">\n",
              "  <thead>\n",
              "    <tr style=\"text-align: right;\">\n",
              "      <th></th>\n",
              "      <th>street</th>\n",
              "      <th>statezip</th>\n",
              "      <th>city</th>\n",
              "      <th>sqft_living</th>\n",
              "      <th>sqft_above</th>\n",
              "      <th>bathrooms</th>\n",
              "      <th>yr_built</th>\n",
              "      <th>sqft_lot</th>\n",
              "      <th>bedrooms</th>\n",
              "      <th>price</th>\n",
              "    </tr>\n",
              "  </thead>\n",
              "  <tbody>\n",
              "    <tr>\n",
              "      <th>0</th>\n",
              "      <td>18810 Densmore Ave N</td>\n",
              "      <td>WA 98133</td>\n",
              "      <td>Shoreline</td>\n",
              "      <td>1340</td>\n",
              "      <td>1340</td>\n",
              "      <td>1.50</td>\n",
              "      <td>1955</td>\n",
              "      <td>7912</td>\n",
              "      <td>3.0</td>\n",
              "      <td>313000.0</td>\n",
              "    </tr>\n",
              "    <tr>\n",
              "      <th>1</th>\n",
              "      <td>709 W Blaine St</td>\n",
              "      <td>WA 98119</td>\n",
              "      <td>Seattle</td>\n",
              "      <td>3650</td>\n",
              "      <td>3370</td>\n",
              "      <td>2.50</td>\n",
              "      <td>1921</td>\n",
              "      <td>9050</td>\n",
              "      <td>5.0</td>\n",
              "      <td>2384000.0</td>\n",
              "    </tr>\n",
              "    <tr>\n",
              "      <th>2</th>\n",
              "      <td>26206-26214 143rd Ave SE</td>\n",
              "      <td>WA 98042</td>\n",
              "      <td>Kent</td>\n",
              "      <td>1930</td>\n",
              "      <td>1930</td>\n",
              "      <td>2.00</td>\n",
              "      <td>1966</td>\n",
              "      <td>11947</td>\n",
              "      <td>3.0</td>\n",
              "      <td>342000.0</td>\n",
              "    </tr>\n",
              "    <tr>\n",
              "      <th>3</th>\n",
              "      <td>857 170th Pl NE</td>\n",
              "      <td>WA 98008</td>\n",
              "      <td>Bellevue</td>\n",
              "      <td>2000</td>\n",
              "      <td>1000</td>\n",
              "      <td>2.25</td>\n",
              "      <td>1963</td>\n",
              "      <td>8030</td>\n",
              "      <td>3.0</td>\n",
              "      <td>420000.0</td>\n",
              "    </tr>\n",
              "    <tr>\n",
              "      <th>4</th>\n",
              "      <td>9105 170th Ave NE</td>\n",
              "      <td>WA 98052</td>\n",
              "      <td>Redmond</td>\n",
              "      <td>1940</td>\n",
              "      <td>1140</td>\n",
              "      <td>2.50</td>\n",
              "      <td>1976</td>\n",
              "      <td>10500</td>\n",
              "      <td>4.0</td>\n",
              "      <td>550000.0</td>\n",
              "    </tr>\n",
              "  </tbody>\n",
              "</table>\n",
              "</div>"
            ],
            "text/plain": [
              "                     street  statezip       city  sqft_living  sqft_above  \\\n",
              "0      18810 Densmore Ave N  WA 98133  Shoreline         1340        1340   \n",
              "1           709 W Blaine St  WA 98119    Seattle         3650        3370   \n",
              "2  26206-26214 143rd Ave SE  WA 98042       Kent         1930        1930   \n",
              "3           857 170th Pl NE  WA 98008   Bellevue         2000        1000   \n",
              "4         9105 170th Ave NE  WA 98052    Redmond         1940        1140   \n",
              "\n",
              "   bathrooms  yr_built  sqft_lot  bedrooms      price  \n",
              "0       1.50      1955      7912       3.0   313000.0  \n",
              "1       2.50      1921      9050       5.0  2384000.0  \n",
              "2       2.00      1966     11947       3.0   342000.0  \n",
              "3       2.25      1963      8030       3.0   420000.0  \n",
              "4       2.50      1976     10500       4.0   550000.0  "
            ]
          },
          "execution_count": 17,
          "metadata": {},
          "output_type": "execute_result"
        }
      ],
      "source": [
        "df.head()"
      ]
    },
    {
      "cell_type": "code",
      "execution_count": 18,
      "id": "x9XW07Z805A5",
      "metadata": {
        "execution": {
          "iopub.execute_input": "2024-02-17T18:34:51.411594Z",
          "iopub.status.busy": "2024-02-17T18:34:51.411238Z",
          "iopub.status.idle": "2024-02-17T18:34:51.422827Z",
          "shell.execute_reply": "2024-02-17T18:34:51.421921Z",
          "shell.execute_reply.started": "2024-02-17T18:34:51.411557Z"
        },
        "id": "x9XW07Z805A5",
        "papermill": {
          "duration": 0.033375,
          "end_time": "2022-06-02T06:05:20.667039",
          "exception": false,
          "start_time": "2022-06-02T06:05:20.633664",
          "status": "completed"
        },
        "tags": [],
        "trusted": true
      },
      "outputs": [],
      "source": [
        "X = df.iloc[:, :-1]\n",
        "y = df.iloc[:, -1]"
      ]
    },
    {
      "cell_type": "code",
      "execution_count": 19,
      "id": "tqtwq7Y005A5",
      "metadata": {
        "execution": {
          "iopub.execute_input": "2024-02-17T18:34:51.424567Z",
          "iopub.status.busy": "2024-02-17T18:34:51.424236Z",
          "iopub.status.idle": "2024-02-17T18:34:51.495718Z",
          "shell.execute_reply": "2024-02-17T18:34:51.494797Z",
          "shell.execute_reply.started": "2024-02-17T18:34:51.424540Z"
        },
        "id": "tqtwq7Y005A5",
        "papermill": {
          "duration": 0.088574,
          "end_time": "2022-06-02T06:05:21.095581",
          "exception": false,
          "start_time": "2022-06-02T06:05:21.007007",
          "status": "completed"
        },
        "tags": [],
        "trusted": true
      },
      "outputs": [],
      "source": [
        "encoder = MEstimateEncoder(cols=['street','statezip','city'], m=0.5)\n",
        "X = encoder.fit_transform(X, y)"
      ]
    },
    {
      "cell_type": "code",
      "execution_count": 20,
      "id": "Xw8WaOH-05A5",
      "metadata": {
        "execution": {
          "iopub.execute_input": "2024-02-17T18:34:51.497194Z",
          "iopub.status.busy": "2024-02-17T18:34:51.496817Z",
          "iopub.status.idle": "2024-02-17T18:34:51.505121Z",
          "shell.execute_reply": "2024-02-17T18:34:51.503927Z",
          "shell.execute_reply.started": "2024-02-17T18:34:51.497165Z"
        },
        "id": "Xw8WaOH-05A5",
        "papermill": {
          "duration": 0.032964,
          "end_time": "2022-06-02T06:05:21.220881",
          "exception": false,
          "start_time": "2022-06-02T06:05:21.187917",
          "status": "completed"
        },
        "tags": [],
        "trusted": true
      },
      "outputs": [],
      "source": [
        "X_train, X_test, y_train, y_test = train_test_split(X.values, y.values, test_size=0.2, random_state=42)"
      ]
    },
    {
      "cell_type": "code",
      "execution_count": 21,
      "id": "WlQliBjx05A5",
      "metadata": {
        "execution": {
          "iopub.execute_input": "2024-02-17T18:34:51.507021Z",
          "iopub.status.busy": "2024-02-17T18:34:51.506644Z",
          "iopub.status.idle": "2024-02-17T18:34:51.515480Z",
          "shell.execute_reply": "2024-02-17T18:34:51.514314Z",
          "shell.execute_reply.started": "2024-02-17T18:34:51.506992Z"
        },
        "id": "WlQliBjx05A5",
        "papermill": {
          "duration": 0.03179,
          "end_time": "2022-06-02T06:05:21.332268",
          "exception": false,
          "start_time": "2022-06-02T06:05:21.300478",
          "status": "completed"
        },
        "tags": [],
        "trusted": true
      },
      "outputs": [],
      "source": [
        "model = LinearRegression()"
      ]
    },
    {
      "cell_type": "code",
      "execution_count": 22,
      "id": "7wLRj9HM05A5",
      "metadata": {
        "colab": {
          "base_uri": "https://localhost:8080/",
          "height": 74
        },
        "execution": {
          "iopub.execute_input": "2024-02-17T18:34:51.517072Z",
          "iopub.status.busy": "2024-02-17T18:34:51.516687Z",
          "iopub.status.idle": "2024-02-17T18:34:51.551016Z",
          "shell.execute_reply": "2024-02-17T18:34:51.550123Z",
          "shell.execute_reply.started": "2024-02-17T18:34:51.517042Z"
        },
        "id": "7wLRj9HM05A5",
        "outputId": "03ec583a-244a-4026-9928-c24992fe8e4d",
        "papermill": {
          "duration": 0.048113,
          "end_time": "2022-06-02T06:05:21.404150",
          "exception": false,
          "start_time": "2022-06-02T06:05:21.356037",
          "status": "completed"
        },
        "tags": [],
        "trusted": true
      },
      "outputs": [
        {
          "data": {
            "text/html": [
              "<style>#sk-container-id-1 {\n",
              "  /* Definition of color scheme common for light and dark mode */\n",
              "  --sklearn-color-text: black;\n",
              "  --sklearn-color-line: gray;\n",
              "  /* Definition of color scheme for unfitted estimators */\n",
              "  --sklearn-color-unfitted-level-0: #fff5e6;\n",
              "  --sklearn-color-unfitted-level-1: #f6e4d2;\n",
              "  --sklearn-color-unfitted-level-2: #ffe0b3;\n",
              "  --sklearn-color-unfitted-level-3: chocolate;\n",
              "  /* Definition of color scheme for fitted estimators */\n",
              "  --sklearn-color-fitted-level-0: #f0f8ff;\n",
              "  --sklearn-color-fitted-level-1: #d4ebff;\n",
              "  --sklearn-color-fitted-level-2: #b3dbfd;\n",
              "  --sklearn-color-fitted-level-3: cornflowerblue;\n",
              "\n",
              "  /* Specific color for light theme */\n",
              "  --sklearn-color-text-on-default-background: var(--sg-text-color, var(--theme-code-foreground, var(--jp-content-font-color1, black)));\n",
              "  --sklearn-color-background: var(--sg-background-color, var(--theme-background, var(--jp-layout-color0, white)));\n",
              "  --sklearn-color-border-box: var(--sg-text-color, var(--theme-code-foreground, var(--jp-content-font-color1, black)));\n",
              "  --sklearn-color-icon: #696969;\n",
              "\n",
              "  @media (prefers-color-scheme: dark) {\n",
              "    /* Redefinition of color scheme for dark theme */\n",
              "    --sklearn-color-text-on-default-background: var(--sg-text-color, var(--theme-code-foreground, var(--jp-content-font-color1, white)));\n",
              "    --sklearn-color-background: var(--sg-background-color, var(--theme-background, var(--jp-layout-color0, #111)));\n",
              "    --sklearn-color-border-box: var(--sg-text-color, var(--theme-code-foreground, var(--jp-content-font-color1, white)));\n",
              "    --sklearn-color-icon: #878787;\n",
              "  }\n",
              "}\n",
              "\n",
              "#sk-container-id-1 {\n",
              "  color: var(--sklearn-color-text);\n",
              "}\n",
              "\n",
              "#sk-container-id-1 pre {\n",
              "  padding: 0;\n",
              "}\n",
              "\n",
              "#sk-container-id-1 input.sk-hidden--visually {\n",
              "  border: 0;\n",
              "  clip: rect(1px 1px 1px 1px);\n",
              "  clip: rect(1px, 1px, 1px, 1px);\n",
              "  height: 1px;\n",
              "  margin: -1px;\n",
              "  overflow: hidden;\n",
              "  padding: 0;\n",
              "  position: absolute;\n",
              "  width: 1px;\n",
              "}\n",
              "\n",
              "#sk-container-id-1 div.sk-dashed-wrapped {\n",
              "  border: 1px dashed var(--sklearn-color-line);\n",
              "  margin: 0 0.4em 0.5em 0.4em;\n",
              "  box-sizing: border-box;\n",
              "  padding-bottom: 0.4em;\n",
              "  background-color: var(--sklearn-color-background);\n",
              "}\n",
              "\n",
              "#sk-container-id-1 div.sk-container {\n",
              "  /* jupyter's `normalize.less` sets `[hidden] { display: none; }`\n",
              "     but bootstrap.min.css set `[hidden] { display: none !important; }`\n",
              "     so we also need the `!important` here to be able to override the\n",
              "     default hidden behavior on the sphinx rendered scikit-learn.org.\n",
              "     See: https://github.com/scikit-learn/scikit-learn/issues/21755 */\n",
              "  display: inline-block !important;\n",
              "  position: relative;\n",
              "}\n",
              "\n",
              "#sk-container-id-1 div.sk-text-repr-fallback {\n",
              "  display: none;\n",
              "}\n",
              "\n",
              "div.sk-parallel-item,\n",
              "div.sk-serial,\n",
              "div.sk-item {\n",
              "  /* draw centered vertical line to link estimators */\n",
              "  background-image: linear-gradient(var(--sklearn-color-text-on-default-background), var(--sklearn-color-text-on-default-background));\n",
              "  background-size: 2px 100%;\n",
              "  background-repeat: no-repeat;\n",
              "  background-position: center center;\n",
              "}\n",
              "\n",
              "/* Parallel-specific style estimator block */\n",
              "\n",
              "#sk-container-id-1 div.sk-parallel-item::after {\n",
              "  content: \"\";\n",
              "  width: 100%;\n",
              "  border-bottom: 2px solid var(--sklearn-color-text-on-default-background);\n",
              "  flex-grow: 1;\n",
              "}\n",
              "\n",
              "#sk-container-id-1 div.sk-parallel {\n",
              "  display: flex;\n",
              "  align-items: stretch;\n",
              "  justify-content: center;\n",
              "  background-color: var(--sklearn-color-background);\n",
              "  position: relative;\n",
              "}\n",
              "\n",
              "#sk-container-id-1 div.sk-parallel-item {\n",
              "  display: flex;\n",
              "  flex-direction: column;\n",
              "}\n",
              "\n",
              "#sk-container-id-1 div.sk-parallel-item:first-child::after {\n",
              "  align-self: flex-end;\n",
              "  width: 50%;\n",
              "}\n",
              "\n",
              "#sk-container-id-1 div.sk-parallel-item:last-child::after {\n",
              "  align-self: flex-start;\n",
              "  width: 50%;\n",
              "}\n",
              "\n",
              "#sk-container-id-1 div.sk-parallel-item:only-child::after {\n",
              "  width: 0;\n",
              "}\n",
              "\n",
              "/* Serial-specific style estimator block */\n",
              "\n",
              "#sk-container-id-1 div.sk-serial {\n",
              "  display: flex;\n",
              "  flex-direction: column;\n",
              "  align-items: center;\n",
              "  background-color: var(--sklearn-color-background);\n",
              "  padding-right: 1em;\n",
              "  padding-left: 1em;\n",
              "}\n",
              "\n",
              "\n",
              "/* Toggleable style: style used for estimator/Pipeline/ColumnTransformer box that is\n",
              "clickable and can be expanded/collapsed.\n",
              "- Pipeline and ColumnTransformer use this feature and define the default style\n",
              "- Estimators will overwrite some part of the style using the `sk-estimator` class\n",
              "*/\n",
              "\n",
              "/* Pipeline and ColumnTransformer style (default) */\n",
              "\n",
              "#sk-container-id-1 div.sk-toggleable {\n",
              "  /* Default theme specific background. It is overwritten whether we have a\n",
              "  specific estimator or a Pipeline/ColumnTransformer */\n",
              "  background-color: var(--sklearn-color-background);\n",
              "}\n",
              "\n",
              "/* Toggleable label */\n",
              "#sk-container-id-1 label.sk-toggleable__label {\n",
              "  cursor: pointer;\n",
              "  display: block;\n",
              "  width: 100%;\n",
              "  margin-bottom: 0;\n",
              "  padding: 0.5em;\n",
              "  box-sizing: border-box;\n",
              "  text-align: center;\n",
              "}\n",
              "\n",
              "#sk-container-id-1 label.sk-toggleable__label-arrow:before {\n",
              "  /* Arrow on the left of the label */\n",
              "  content: \"▸\";\n",
              "  float: left;\n",
              "  margin-right: 0.25em;\n",
              "  color: var(--sklearn-color-icon);\n",
              "}\n",
              "\n",
              "#sk-container-id-1 label.sk-toggleable__label-arrow:hover:before {\n",
              "  color: var(--sklearn-color-text);\n",
              "}\n",
              "\n",
              "/* Toggleable content - dropdown */\n",
              "\n",
              "#sk-container-id-1 div.sk-toggleable__content {\n",
              "  max-height: 0;\n",
              "  max-width: 0;\n",
              "  overflow: hidden;\n",
              "  text-align: left;\n",
              "  /* unfitted */\n",
              "  background-color: var(--sklearn-color-unfitted-level-0);\n",
              "}\n",
              "\n",
              "#sk-container-id-1 div.sk-toggleable__content.fitted {\n",
              "  /* fitted */\n",
              "  background-color: var(--sklearn-color-fitted-level-0);\n",
              "}\n",
              "\n",
              "#sk-container-id-1 div.sk-toggleable__content pre {\n",
              "  margin: 0.2em;\n",
              "  border-radius: 0.25em;\n",
              "  color: var(--sklearn-color-text);\n",
              "  /* unfitted */\n",
              "  background-color: var(--sklearn-color-unfitted-level-0);\n",
              "}\n",
              "\n",
              "#sk-container-id-1 div.sk-toggleable__content.fitted pre {\n",
              "  /* unfitted */\n",
              "  background-color: var(--sklearn-color-fitted-level-0);\n",
              "}\n",
              "\n",
              "#sk-container-id-1 input.sk-toggleable__control:checked~div.sk-toggleable__content {\n",
              "  /* Expand drop-down */\n",
              "  max-height: 200px;\n",
              "  max-width: 100%;\n",
              "  overflow: auto;\n",
              "}\n",
              "\n",
              "#sk-container-id-1 input.sk-toggleable__control:checked~label.sk-toggleable__label-arrow:before {\n",
              "  content: \"▾\";\n",
              "}\n",
              "\n",
              "/* Pipeline/ColumnTransformer-specific style */\n",
              "\n",
              "#sk-container-id-1 div.sk-label input.sk-toggleable__control:checked~label.sk-toggleable__label {\n",
              "  color: var(--sklearn-color-text);\n",
              "  background-color: var(--sklearn-color-unfitted-level-2);\n",
              "}\n",
              "\n",
              "#sk-container-id-1 div.sk-label.fitted input.sk-toggleable__control:checked~label.sk-toggleable__label {\n",
              "  background-color: var(--sklearn-color-fitted-level-2);\n",
              "}\n",
              "\n",
              "/* Estimator-specific style */\n",
              "\n",
              "/* Colorize estimator box */\n",
              "#sk-container-id-1 div.sk-estimator input.sk-toggleable__control:checked~label.sk-toggleable__label {\n",
              "  /* unfitted */\n",
              "  background-color: var(--sklearn-color-unfitted-level-2);\n",
              "}\n",
              "\n",
              "#sk-container-id-1 div.sk-estimator.fitted input.sk-toggleable__control:checked~label.sk-toggleable__label {\n",
              "  /* fitted */\n",
              "  background-color: var(--sklearn-color-fitted-level-2);\n",
              "}\n",
              "\n",
              "#sk-container-id-1 div.sk-label label.sk-toggleable__label,\n",
              "#sk-container-id-1 div.sk-label label {\n",
              "  /* The background is the default theme color */\n",
              "  color: var(--sklearn-color-text-on-default-background);\n",
              "}\n",
              "\n",
              "/* On hover, darken the color of the background */\n",
              "#sk-container-id-1 div.sk-label:hover label.sk-toggleable__label {\n",
              "  color: var(--sklearn-color-text);\n",
              "  background-color: var(--sklearn-color-unfitted-level-2);\n",
              "}\n",
              "\n",
              "/* Label box, darken color on hover, fitted */\n",
              "#sk-container-id-1 div.sk-label.fitted:hover label.sk-toggleable__label.fitted {\n",
              "  color: var(--sklearn-color-text);\n",
              "  background-color: var(--sklearn-color-fitted-level-2);\n",
              "}\n",
              "\n",
              "/* Estimator label */\n",
              "\n",
              "#sk-container-id-1 div.sk-label label {\n",
              "  font-family: monospace;\n",
              "  font-weight: bold;\n",
              "  display: inline-block;\n",
              "  line-height: 1.2em;\n",
              "}\n",
              "\n",
              "#sk-container-id-1 div.sk-label-container {\n",
              "  text-align: center;\n",
              "}\n",
              "\n",
              "/* Estimator-specific */\n",
              "#sk-container-id-1 div.sk-estimator {\n",
              "  font-family: monospace;\n",
              "  border: 1px dotted var(--sklearn-color-border-box);\n",
              "  border-radius: 0.25em;\n",
              "  box-sizing: border-box;\n",
              "  margin-bottom: 0.5em;\n",
              "  /* unfitted */\n",
              "  background-color: var(--sklearn-color-unfitted-level-0);\n",
              "}\n",
              "\n",
              "#sk-container-id-1 div.sk-estimator.fitted {\n",
              "  /* fitted */\n",
              "  background-color: var(--sklearn-color-fitted-level-0);\n",
              "}\n",
              "\n",
              "/* on hover */\n",
              "#sk-container-id-1 div.sk-estimator:hover {\n",
              "  /* unfitted */\n",
              "  background-color: var(--sklearn-color-unfitted-level-2);\n",
              "}\n",
              "\n",
              "#sk-container-id-1 div.sk-estimator.fitted:hover {\n",
              "  /* fitted */\n",
              "  background-color: var(--sklearn-color-fitted-level-2);\n",
              "}\n",
              "\n",
              "/* Specification for estimator info (e.g. \"i\" and \"?\") */\n",
              "\n",
              "/* Common style for \"i\" and \"?\" */\n",
              "\n",
              ".sk-estimator-doc-link,\n",
              "a:link.sk-estimator-doc-link,\n",
              "a:visited.sk-estimator-doc-link {\n",
              "  float: right;\n",
              "  font-size: smaller;\n",
              "  line-height: 1em;\n",
              "  font-family: monospace;\n",
              "  background-color: var(--sklearn-color-background);\n",
              "  border-radius: 1em;\n",
              "  height: 1em;\n",
              "  width: 1em;\n",
              "  text-decoration: none !important;\n",
              "  margin-left: 1ex;\n",
              "  /* unfitted */\n",
              "  border: var(--sklearn-color-unfitted-level-1) 1pt solid;\n",
              "  color: var(--sklearn-color-unfitted-level-1);\n",
              "}\n",
              "\n",
              ".sk-estimator-doc-link.fitted,\n",
              "a:link.sk-estimator-doc-link.fitted,\n",
              "a:visited.sk-estimator-doc-link.fitted {\n",
              "  /* fitted */\n",
              "  border: var(--sklearn-color-fitted-level-1) 1pt solid;\n",
              "  color: var(--sklearn-color-fitted-level-1);\n",
              "}\n",
              "\n",
              "/* On hover */\n",
              "div.sk-estimator:hover .sk-estimator-doc-link:hover,\n",
              ".sk-estimator-doc-link:hover,\n",
              "div.sk-label-container:hover .sk-estimator-doc-link:hover,\n",
              ".sk-estimator-doc-link:hover {\n",
              "  /* unfitted */\n",
              "  background-color: var(--sklearn-color-unfitted-level-3);\n",
              "  color: var(--sklearn-color-background);\n",
              "  text-decoration: none;\n",
              "}\n",
              "\n",
              "div.sk-estimator.fitted:hover .sk-estimator-doc-link.fitted:hover,\n",
              ".sk-estimator-doc-link.fitted:hover,\n",
              "div.sk-label-container:hover .sk-estimator-doc-link.fitted:hover,\n",
              ".sk-estimator-doc-link.fitted:hover {\n",
              "  /* fitted */\n",
              "  background-color: var(--sklearn-color-fitted-level-3);\n",
              "  color: var(--sklearn-color-background);\n",
              "  text-decoration: none;\n",
              "}\n",
              "\n",
              "/* Span, style for the box shown on hovering the info icon */\n",
              ".sk-estimator-doc-link span {\n",
              "  display: none;\n",
              "  z-index: 9999;\n",
              "  position: relative;\n",
              "  font-weight: normal;\n",
              "  right: .2ex;\n",
              "  padding: .5ex;\n",
              "  margin: .5ex;\n",
              "  width: min-content;\n",
              "  min-width: 20ex;\n",
              "  max-width: 50ex;\n",
              "  color: var(--sklearn-color-text);\n",
              "  box-shadow: 2pt 2pt 4pt #999;\n",
              "  /* unfitted */\n",
              "  background: var(--sklearn-color-unfitted-level-0);\n",
              "  border: .5pt solid var(--sklearn-color-unfitted-level-3);\n",
              "}\n",
              "\n",
              ".sk-estimator-doc-link.fitted span {\n",
              "  /* fitted */\n",
              "  background: var(--sklearn-color-fitted-level-0);\n",
              "  border: var(--sklearn-color-fitted-level-3);\n",
              "}\n",
              "\n",
              ".sk-estimator-doc-link:hover span {\n",
              "  display: block;\n",
              "}\n",
              "\n",
              "/* \"?\"-specific style due to the `<a>` HTML tag */\n",
              "\n",
              "#sk-container-id-1 a.estimator_doc_link {\n",
              "  float: right;\n",
              "  font-size: 1rem;\n",
              "  line-height: 1em;\n",
              "  font-family: monospace;\n",
              "  background-color: var(--sklearn-color-background);\n",
              "  border-radius: 1rem;\n",
              "  height: 1rem;\n",
              "  width: 1rem;\n",
              "  text-decoration: none;\n",
              "  /* unfitted */\n",
              "  color: var(--sklearn-color-unfitted-level-1);\n",
              "  border: var(--sklearn-color-unfitted-level-1) 1pt solid;\n",
              "}\n",
              "\n",
              "#sk-container-id-1 a.estimator_doc_link.fitted {\n",
              "  /* fitted */\n",
              "  border: var(--sklearn-color-fitted-level-1) 1pt solid;\n",
              "  color: var(--sklearn-color-fitted-level-1);\n",
              "}\n",
              "\n",
              "/* On hover */\n",
              "#sk-container-id-1 a.estimator_doc_link:hover {\n",
              "  /* unfitted */\n",
              "  background-color: var(--sklearn-color-unfitted-level-3);\n",
              "  color: var(--sklearn-color-background);\n",
              "  text-decoration: none;\n",
              "}\n",
              "\n",
              "#sk-container-id-1 a.estimator_doc_link.fitted:hover {\n",
              "  /* fitted */\n",
              "  background-color: var(--sklearn-color-fitted-level-3);\n",
              "}\n",
              "</style><div id=\"sk-container-id-1\" class=\"sk-top-container\"><div class=\"sk-text-repr-fallback\"><pre>LinearRegression()</pre><b>In a Jupyter environment, please rerun this cell to show the HTML representation or trust the notebook. <br />On GitHub, the HTML representation is unable to render, please try loading this page with nbviewer.org.</b></div><div class=\"sk-container\" hidden><div class=\"sk-item\"><div class=\"sk-estimator fitted sk-toggleable\"><input class=\"sk-toggleable__control sk-hidden--visually\" id=\"sk-estimator-id-1\" type=\"checkbox\" checked><label for=\"sk-estimator-id-1\" class=\"sk-toggleable__label fitted sk-toggleable__label-arrow fitted\">&nbsp;&nbsp;LinearRegression<a class=\"sk-estimator-doc-link fitted\" rel=\"noreferrer\" target=\"_blank\" href=\"https://scikit-learn.org/1.4/modules/generated/sklearn.linear_model.LinearRegression.html\">?<span>Documentation for LinearRegression</span></a><span class=\"sk-estimator-doc-link fitted\">i<span>Fitted</span></span></label><div class=\"sk-toggleable__content fitted\"><pre>LinearRegression()</pre></div> </div></div></div></div>"
            ],
            "text/plain": [
              "LinearRegression()"
            ]
          },
          "execution_count": 22,
          "metadata": {},
          "output_type": "execute_result"
        }
      ],
      "source": [
        "model.fit(X_train, y_train)"
      ]
    },
    {
      "cell_type": "code",
      "execution_count": 23,
      "id": "owFKxilU05A5",
      "metadata": {
        "colab": {
          "base_uri": "https://localhost:8080/"
        },
        "execution": {
          "iopub.execute_input": "2024-02-17T18:34:51.553058Z",
          "iopub.status.busy": "2024-02-17T18:34:51.552125Z",
          "iopub.status.idle": "2024-02-17T18:34:51.566232Z",
          "shell.execute_reply": "2024-02-17T18:34:51.563942Z",
          "shell.execute_reply.started": "2024-02-17T18:34:51.553028Z"
        },
        "id": "owFKxilU05A5",
        "outputId": "3b0259c0-274d-4b50-ffb7-0201aff31956",
        "trusted": true
      },
      "outputs": [
        {
          "data": {
            "text/plain": [
              "0.9985749282842019"
            ]
          },
          "execution_count": 23,
          "metadata": {},
          "output_type": "execute_result"
        }
      ],
      "source": [
        "model.score(X_train, y_train)"
      ]
    },
    {
      "cell_type": "code",
      "execution_count": 24,
      "id": "hVTfklyw05A6",
      "metadata": {
        "colab": {
          "base_uri": "https://localhost:8080/"
        },
        "execution": {
          "iopub.execute_input": "2024-02-17T18:34:51.571599Z",
          "iopub.status.busy": "2024-02-17T18:34:51.568993Z",
          "iopub.status.idle": "2024-02-17T18:34:51.589807Z",
          "shell.execute_reply": "2024-02-17T18:34:51.588027Z",
          "shell.execute_reply.started": "2024-02-17T18:34:51.571539Z"
        },
        "id": "hVTfklyw05A6",
        "outputId": "0e7b43e1-0173-459f-80d1-e7a3eb0dbfc7",
        "trusted": true
      },
      "outputs": [
        {
          "data": {
            "text/plain": [
              "0.9995148416705144"
            ]
          },
          "execution_count": 24,
          "metadata": {},
          "output_type": "execute_result"
        }
      ],
      "source": [
        "model.score(X_test, y_test)"
      ]
    },
    {
      "cell_type": "code",
      "execution_count": 25,
      "id": "Dvp_En1E05A6",
      "metadata": {
        "colab": {
          "base_uri": "https://localhost:8080/"
        },
        "execution": {
          "iopub.execute_input": "2024-02-17T18:34:51.595013Z",
          "iopub.status.busy": "2024-02-17T18:34:51.592164Z",
          "iopub.status.idle": "2024-02-17T18:34:53.075704Z",
          "shell.execute_reply": "2024-02-17T18:34:53.074679Z",
          "shell.execute_reply.started": "2024-02-17T18:34:51.594957Z"
        },
        "id": "Dvp_En1E05A6",
        "outputId": "0255488b-d8e4-4538-a6f4-267d31317788",
        "papermill": {
          "duration": 1.141941,
          "end_time": "2022-06-02T06:05:22.849091",
          "exception": false,
          "start_time": "2022-06-02T06:05:21.707150",
          "status": "completed"
        },
        "tags": [],
        "trusted": true
      },
      "outputs": [
        {
          "name": "stdout",
          "output_type": "stream",
          "text": [
            "Accuracy: 99.70 %\n"
          ]
        }
      ],
      "source": [
        "from sklearn.model_selection import cross_val_score\n",
        "\n",
        "cvs = cross_val_score(model, X_train, y_train, cv=10, n_jobs=-1)\n",
        "print('Accuracy: {:.2f} %'.format(cvs.mean() * 100))"
      ]
    },
    {
      "cell_type": "code",
      "execution_count": 26,
      "id": "XHxLwVN_05A6",
      "metadata": {
        "execution": {
          "iopub.execute_input": "2024-02-17T18:34:53.078215Z",
          "iopub.status.busy": "2024-02-17T18:34:53.077090Z",
          "iopub.status.idle": "2024-02-17T18:34:53.087645Z",
          "shell.execute_reply": "2024-02-17T18:34:53.086367Z",
          "shell.execute_reply.started": "2024-02-17T18:34:53.078177Z"
        },
        "id": "XHxLwVN_05A6",
        "papermill": {
          "duration": 0.032071,
          "end_time": "2022-06-02T06:05:21.461276",
          "exception": false,
          "start_time": "2022-06-02T06:05:21.429205",
          "status": "completed"
        },
        "tags": [],
        "trusted": true
      },
      "outputs": [],
      "source": [
        "\n",
        "y_pred = model.predict(X_test)"
      ]
    },
    {
      "cell_type": "code",
      "execution_count": 27,
      "id": "hEuKCa-105A6",
      "metadata": {
        "colab": {
          "base_uri": "https://localhost:8080/",
          "height": 463
        },
        "execution": {
          "iopub.execute_input": "2024-02-17T18:34:53.091190Z",
          "iopub.status.busy": "2024-02-17T18:34:53.089683Z",
          "iopub.status.idle": "2024-02-17T18:34:53.325981Z",
          "shell.execute_reply": "2024-02-17T18:34:53.324742Z",
          "shell.execute_reply.started": "2024-02-17T18:34:53.091040Z"
        },
        "id": "hEuKCa-105A6",
        "outputId": "e8c2257f-b0ac-4425-e8bb-467120084575",
        "papermill": {
          "duration": 0.220896,
          "end_time": "2022-06-02T06:05:23.143454",
          "exception": false,
          "start_time": "2022-06-02T06:05:22.922558",
          "status": "completed"
        },
        "tags": [],
        "trusted": true
      },
      "outputs": [
        {
          "data": {
            "image/png": "[encoded data removed]",
            "text/plain": [
              "<Figure size 640x480 with 1 Axes>"
            ]
          },
          "metadata": {},
          "output_type": "display_data"
        }
      ],
      "source": [
        "plt.scatter(y_test,y_pred)\n",
        "plt.show()"
      ]
    }
  ],
  "metadata": {
    "colab": {
      "include_colab_link": true,
      "provenance": []
    },
    "kernelspec": {
      "display_name": "Python 3",
      "language": "python",
      "name": "python3"
    },
    "language_info": {
      "codemirror_mode": {
        "name": "ipython",
        "version": 3
      },
      "file_extension": ".py",
      "mimetype": "text/x-python",
      "name": "python",
      "nbconvert_exporter": "python",
      "pygments_lexer": "ipython3",
      "version": "3.11.4"
    },
    "papermill": {
      "default_parameters": {},
      "duration": 52.929114,
      "end_time": "2022-06-02T06:05:25.787532",
      "environment_variables": {},
      "exception": null,
      "input_path": "__notebook__.ipynb",
      "output_path": "__notebook__.ipynb",
      "parameters": {},
      "start_time": "2022-06-02T06:04:32.858418",
      "version": "2.3.4"
    }
  },
  "nbformat": 4,
  "nbformat_minor": 5
}
