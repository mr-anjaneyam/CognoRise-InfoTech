{
 "cells": [
  {
   "cell_type": "code",
   "execution_count": 2,
   "id": "11ddf915",
   "metadata": {},
   "outputs": [
    {
     "name": "stdout",
     "output_type": "stream",
     "text": [
      "Requirement already satisfied: pandas in c:\\users\\sri\\appdata\\local\\programs\\python\\python311\\lib\\site-packages (2.2.0)\n",
      "Requirement already satisfied: scikit-learn in c:\\users\\sri\\appdata\\local\\programs\\python\\python311\\lib\\site-packages (1.4.2)\n",
      "Requirement already satisfied: xgboost in c:\\users\\sri\\appdata\\local\\programs\\python\\python311\\lib\\site-packages (2.0.3)\n",
      "Requirement already satisfied: numpy<2,>=1.23.2 in c:\\users\\sri\\appdata\\local\\programs\\python\\python311\\lib\\site-packages (from pandas) (1.26.4)\n",
      "Requirement already satisfied: python-dateutil>=2.8.2 in c:\\users\\sri\\appdata\\local\\programs\\python\\python311\\lib\\site-packages (from pandas) (2.8.2)\n",
      "Requirement already satisfied: pytz>=2020.1 in c:\\users\\sri\\appdata\\local\\programs\\python\\python311\\lib\\site-packages (from pandas) (2024.1)\n",
      "Requirement already satisfied: tzdata>=2022.7 in c:\\users\\sri\\appdata\\local\\programs\\python\\python311\\lib\\site-packages (from pandas) (2023.4)\n",
      "Requirement already satisfied: scipy>=1.6.0 in c:\\users\\sri\\appdata\\local\\programs\\python\\python311\\lib\\site-packages (from scikit-learn) (1.13.0)\n",
      "Requirement already satisfied: joblib>=1.2.0 in c:\\users\\sri\\appdata\\local\\programs\\python\\python311\\lib\\site-packages (from scikit-learn) (1.4.0)\n",
      "Requirement already satisfied: threadpoolctl>=2.0.0 in c:\\users\\sri\\appdata\\local\\programs\\python\\python311\\lib\\site-packages (from scikit-learn) (3.4.0)\n",
      "Requirement already satisfied: six>=1.5 in c:\\users\\sri\\appdata\\local\\programs\\python\\python311\\lib\\site-packages (from python-dateutil>=2.8.2->pandas) (1.16.0)\n",
      "Note: you may need to restart the kernel to use updated packages.\n"
     ]
    },
    {
     "name": "stderr",
     "output_type": "stream",
     "text": [
      "\n",
      "[notice] A new release of pip is available: 23.3.2 -> 24.0\n",
      "[notice] To update, run: python.exe -m pip install --upgrade pip\n"
     ]
    }
   ],
   "source": [
    "pip install pandas scikit-learn xgboost"
   ]
  },
  {
   "cell_type": "code",
   "execution_count": 3,
   "id": "795533e0",
   "metadata": {},
   "outputs": [],
   "source": [
    "import pandas as pd"
   ]
  },
  {
   "cell_type": "code",
   "execution_count": 4,
   "id": "724a88db",
   "metadata": {},
   "outputs": [
    {
     "data": {
      "text/html": [
       "<div>\n",
       "<style scoped>\n",
       "    .dataframe tbody tr th:only-of-type {\n",
       "        vertical-align: middle;\n",
       "    }\n",
       "\n",
       "    .dataframe tbody tr th {\n",
       "        vertical-align: top;\n",
       "    }\n",
       "\n",
       "    .dataframe thead th {\n",
       "        text-align: right;\n",
       "    }\n",
       "</style>\n",
       "<table border=\"1\" class=\"dataframe\">\n",
       "  <thead>\n",
       "    <tr style=\"text-align: right;\">\n",
       "      <th></th>\n",
       "      <th>review</th>\n",
       "      <th>sentiment</th>\n",
       "    </tr>\n",
       "  </thead>\n",
       "  <tbody>\n",
       "    <tr>\n",
       "      <th>0</th>\n",
       "      <td>One of the other reviewers has mentioned that ...</td>\n",
       "      <td>positive</td>\n",
       "    </tr>\n",
       "    <tr>\n",
       "      <th>1</th>\n",
       "      <td>A wonderful little production. &lt;br /&gt;&lt;br /&gt;The...</td>\n",
       "      <td>positive</td>\n",
       "    </tr>\n",
       "    <tr>\n",
       "      <th>2</th>\n",
       "      <td>I thought this was a wonderful way to spend ti...</td>\n",
       "      <td>positive</td>\n",
       "    </tr>\n",
       "    <tr>\n",
       "      <th>3</th>\n",
       "      <td>Basically there's a family where a little boy ...</td>\n",
       "      <td>negative</td>\n",
       "    </tr>\n",
       "    <tr>\n",
       "      <th>4</th>\n",
       "      <td>Petter Mattei's \"Love in the Time of Money\" is...</td>\n",
       "      <td>positive</td>\n",
       "    </tr>\n",
       "    <tr>\n",
       "      <th>...</th>\n",
       "      <td>...</td>\n",
       "      <td>...</td>\n",
       "    </tr>\n",
       "    <tr>\n",
       "      <th>49995</th>\n",
       "      <td>I thought this movie did a down right good job...</td>\n",
       "      <td>positive</td>\n",
       "    </tr>\n",
       "    <tr>\n",
       "      <th>49996</th>\n",
       "      <td>Bad plot, bad dialogue, bad acting, idiotic di...</td>\n",
       "      <td>negative</td>\n",
       "    </tr>\n",
       "    <tr>\n",
       "      <th>49997</th>\n",
       "      <td>I am a Catholic taught in parochial elementary...</td>\n",
       "      <td>negative</td>\n",
       "    </tr>\n",
       "    <tr>\n",
       "      <th>49998</th>\n",
       "      <td>I'm going to have to disagree with the previou...</td>\n",
       "      <td>negative</td>\n",
       "    </tr>\n",
       "    <tr>\n",
       "      <th>49999</th>\n",
       "      <td>No one expects the Star Trek movies to be high...</td>\n",
       "      <td>negative</td>\n",
       "    </tr>\n",
       "  </tbody>\n",
       "</table>\n",
       "<p>50000 rows × 2 columns</p>\n",
       "</div>"
      ],
      "text/plain": [
       "                                                  review sentiment\n",
       "0      One of the other reviewers has mentioned that ...  positive\n",
       "1      A wonderful little production. <br /><br />The...  positive\n",
       "2      I thought this was a wonderful way to spend ti...  positive\n",
       "3      Basically there's a family where a little boy ...  negative\n",
       "4      Petter Mattei's \"Love in the Time of Money\" is...  positive\n",
       "...                                                  ...       ...\n",
       "49995  I thought this movie did a down right good job...  positive\n",
       "49996  Bad plot, bad dialogue, bad acting, idiotic di...  negative\n",
       "49997  I am a Catholic taught in parochial elementary...  negative\n",
       "49998  I'm going to have to disagree with the previou...  negative\n",
       "49999  No one expects the Star Trek movies to be high...  negative\n",
       "\n",
       "[50000 rows x 2 columns]"
      ]
     },
     "execution_count": 4,
     "metadata": {},
     "output_type": "execute_result"
    }
   ],
   "source": [
    "data = pd.read_csv('IMDB Dataset.csv')\n",
    "data"
   ]
  },
  {
   "cell_type": "code",
   "execution_count": 5,
   "id": "cfc1d06d",
   "metadata": {},
   "outputs": [
    {
     "data": {
      "text/plain": [
       "review       0\n",
       "sentiment    0\n",
       "dtype: int64"
      ]
     },
     "execution_count": 5,
     "metadata": {},
     "output_type": "execute_result"
    }
   ],
   "source": [
    "missing_values = data.isna().sum()\n",
    "missing_values"
   ]
  },
  {
   "cell_type": "code",
   "execution_count": 6,
   "id": "5e9f1ec2",
   "metadata": {},
   "outputs": [
    {
     "data": {
      "text/plain": [
       "array([[\"One of the other reviewers has mentioned that after watching just 1 Oz episode you'll be hooked. They are right, as this is exactly what happened with me.<br /><br />The first thing that struck me about Oz was its brutality and unflinching scenes of violence, which set in right from the word GO. Trust me, this is not a show for the faint hearted or timid. This show pulls no punches with regards to drugs, sex or violence. Its is hardcore, in the classic use of the word.<br /><br />It is called OZ as that is the nickname given to the Oswald Maximum Security State Penitentary. It focuses mainly on Emerald City, an experimental section of the prison where all the cells have glass fronts and face inwards, so privacy is not high on the agenda. Em City is home to many..Aryans, Muslims, gangstas, Latinos, Christians, Italians, Irish and more....so scuffles, death stares, dodgy dealings and shady agreements are never far away.<br /><br />I would say the main appeal of the show is due to the fact that it goes where other shows wouldn't dare. Forget pretty pictures painted for mainstream audiences, forget charm, forget romance...OZ doesn't mess around. The first episode I ever saw struck me as so nasty it was surreal, I couldn't say I was ready for it, but as I watched more, I developed a taste for Oz, and got accustomed to the high levels of graphic violence. Not just violence, but injustice (crooked guards who'll be sold out for a nickel, inmates who'll kill on order and get away with it, well mannered, middle class inmates being turned into prison bitches due to their lack of street skills or prison experience) Watching Oz, you may become comfortable with what is uncomfortable viewing....thats if you can get in touch with your darker side.\"],\n",
       "       ['A wonderful little production. <br /><br />The filming technique is very unassuming- very old-time-BBC fashion and gives a comforting, and sometimes discomforting, sense of realism to the entire piece. <br /><br />The actors are extremely well chosen- Michael Sheen not only \"has got all the polari\" but he has all the voices down pat too! You can truly see the seamless editing guided by the references to Williams\\' diary entries, not only is it well worth the watching but it is a terrificly written and performed piece. A masterful production about one of the great master\\'s of comedy and his life. <br /><br />The realism really comes home with the little things: the fantasy of the guard which, rather than use the traditional \\'dream\\' techniques remains solid then disappears. It plays on our knowledge and our senses, particularly with the scenes concerning Orton and Halliwell and the sets (particularly of their flat with Halliwell\\'s murals decorating every surface) are terribly well done.'],\n",
       "       ['I thought this was a wonderful way to spend time on a too hot summer weekend, sitting in the air conditioned theater and watching a light-hearted comedy. The plot is simplistic, but the dialogue is witty and the characters are likable (even the well bread suspected serial killer). While some may be disappointed when they realize this is not Match Point 2: Risk Addiction, I thought it was proof that Woody Allen is still fully in control of the style many of us have grown to love.<br /><br />This was the most I\\'d laughed at one of Woody\\'s comedies in years (dare I say a decade?). While I\\'ve never been impressed with Scarlet Johanson, in this she managed to tone down her \"sexy\" image and jumped right into a average, but spirited young woman.<br /><br />This may not be the crown jewel of his career, but it was wittier than \"Devil Wears Prada\" and more interesting than \"Superman\" a great comedy to go see with friends.'],\n",
       "       ...,\n",
       "       ['I am a Catholic taught in parochial elementary schools by nuns, taught by Jesuit priests in high school & college. I am still a practicing Catholic but would not be considered a \"good Catholic\" in the church\\'s eyes because I don\\'t believe certain things or act certain ways just because the church tells me to.<br /><br />So back to the movie...its bad because two people are killed by this nun who is supposed to be a satire as the embodiment of a female religious figurehead. There is no comedy in that and the satire is not done well by the over acting of Diane Keaton. I never saw the play but if it was very different from this movies then it may be good.<br /><br />At first I thought the gun might be a fake and the first shooting all a plan by the female lead of the four former students as an attempt to demonstrate Sister Mary\\'s emotional and intellectual bigotry of faith. But it turns out the bullets were real and the story has tragedy...the tragedy of loss of life (besides the two former students...the lives of the aborted babies, the life of the student\\'s mom), the tragedy of dogmatic authority over love of people, the tragedy of organized religion replacing true faith in God. This is what is wrong with today\\'s Islam, and yesterday\\'s Judaism and Christianity.'],\n",
       "       ['I\\'m going to have to disagree with the previous comment and side with Maltin on this one. This is a second rate, excessively vicious Western that creaks and groans trying to put across its central theme of the Wild West being tamed and kicked aside by the steady march of time. It would like to be in the tradition of \"Butch Cassidy and the Sundance Kid\", but lacks that film\\'s poignancy and charm. Andrew McLaglen\\'s direction is limp, and the final 30 minutes or so are a real botch, with some incomprehensible strategy on the part of heroes Charlton Heston and Chris Mitchum. (Someone give me a holler if you can explain to me why they set that hillside on fire.) There was something callous about the whole treatment of the rape scene, and the woman\\'s reaction afterwards certainly did not ring true. Coburn is plenty nasty as the half breed escaped convict out for revenge, but all of his fellow escapees are underdeveloped (they\\'re like bowling pins to be knocked down one by one as the story lurches forward). Michael Parks gives one of his typically shifty, lethargic, mumbling performances, but in this case it was appropriate as his modern style sheriff symbolizes the complacency that technological progress can bring about.'],\n",
       "       [\"No one expects the Star Trek movies to be high art, but the fans do expect a movie that is as good as some of the best episodes. Unfortunately, this movie had a muddled, implausible plot that just left me cringing - this is by far the worst of the nine (so far) movies. Even the chance to watch the well known characters interact in another movie can't save this movie - including the goofy scenes with Kirk, Spock and McCoy at Yosemite.<br /><br />I would say this movie is not worth a rental, and hardly worth watching, however for the True Fan who needs to see all the movies, renting this movie is about the only way you'll see it - even the cable channels avoid this movie.\"]],\n",
       "      dtype=object)"
      ]
     },
     "execution_count": 6,
     "metadata": {},
     "output_type": "execute_result"
    }
   ],
   "source": [
    "x = data.iloc[:,0:1].values\n",
    "x"
   ]
  },
  {
   "cell_type": "code",
   "execution_count": 7,
   "id": "0bc04c84",
   "metadata": {},
   "outputs": [
    {
     "data": {
      "text/plain": [
       "array(['positive', 'positive', 'positive', ..., 'negative', 'negative',\n",
       "       'negative'], dtype=object)"
      ]
     },
     "execution_count": 7,
     "metadata": {},
     "output_type": "execute_result"
    }
   ],
   "source": [
    "y = data.iloc[:,1].values\n",
    "y"
   ]
  },
  {
   "cell_type": "code",
   "execution_count": 8,
   "id": "e9ecc9b5",
   "metadata": {},
   "outputs": [],
   "source": [
    "from sklearn.preprocessing import LabelEncoder"
   ]
  },
  {
   "cell_type": "code",
   "execution_count": 9,
   "id": "ae21ba10",
   "metadata": {},
   "outputs": [
    {
     "data": {
      "text/plain": [
       "array([1, 1, 1, ..., 0, 0, 0])"
      ]
     },
     "execution_count": 9,
     "metadata": {},
     "output_type": "execute_result"
    }
   ],
   "source": [
    "le = LabelEncoder()\n",
    "y = le.fit_transform(y)\n",
    "y"
   ]
  },
  {
   "cell_type": "code",
   "execution_count": 10,
   "id": "82403787",
   "metadata": {},
   "outputs": [],
   "source": [
    "from sklearn.model_selection import train_test_split"
   ]
  },
  {
   "cell_type": "code",
   "execution_count": 11,
   "id": "399461c7",
   "metadata": {},
   "outputs": [],
   "source": [
    "x_train,x_test,y_train,y_test = train_test_split(x,y,test_size=0.2,random_state=0)"
   ]
  },
  {
   "cell_type": "code",
   "execution_count": 12,
   "id": "22bf593d",
   "metadata": {},
   "outputs": [
    {
     "data": {
      "text/plain": [
       "array([['John Cassavetes is on the run from the law. He is at the bottom of the heap. He sees Negro Sidney Poitier as his equal and they quickly become friends, forming a sort of alliance against a bully of a foreman played by Jack Warden.<br /><br />As someone who has worked in a warehouse myself when I was younger, I can tell you that the warehouse fights, complete with tumbling packing cases and flailing grappling hooks are as realistic as it gets. I\\'ve been in fights like these myself, although no one got killed.<br /><br />The introduction of Sidney Poitier\\'s widow is a variation on Shakespeare\\'s Shylock \"Do I not bleed?\" This is an anti racist film, which, at the time, was much needed.<br /><br />All the three principle characters - Warden, Cassavetes and Poitier - are superb, with Warden the most outstanding of the three.'],\n",
       "       ['It\\'s not just that the movie is lame. It\\'s more than that. This movie is just unnecessary. Do we need another Western? How about a western with afro-Americans in the titles roles? Sound stupid, implausible and a lame attempt at modernizing the genre? It is. Incredibly lame and simple minded. It\\'s like that lame Baz Luhrman film \"Romeo and Juliet\" where he set it in modern times to attract young folks and create some hype with his revamping of a classic tale. Well, Baz Luhrman failed miserably and so does this mess. The story is actually not bad however the whole idea of removing the racism out of a racist genre by casting an all afro-American cast is racist in itself. It\\'s also puerile and simple minded (like Baz Luhrman-man he\\'s a bad director). Hey (I hear you say) this was directed by Mario Van Peebles! He\\'s also IN the film! How can it be racist? It\\'s not. I said the idea of casting all afro-Americans instead of Caucasians was. The film isn\\'t racist, it\\'s just pointless, stupid and very very boring.'],\n",
       "       ['Well, if it weren\\'t for Ethel Waters and a 7-year-old Sammy Davis, Jr. (here billed without the Jr.), Rufus Jones for President would be one of the worst representations of African-American stereotypes I\\'ve seen from the early talkie era and wouldn\\'t have been worth seeing because of that. Ms. Waters is excellent here singing \"Am I Blue?\" and \"Underneath Our Harlem Moon\" while Mr. Davis shows us how his childhood experience in showbiz prepared him for his superstar status as an adult. He\\'s so good tap-dancing here that for awhile I thought he was a little person with decades of experience. So if you\\'re willing to ignore the negative connotations here, Rufus Jones for President should provide some good enjoyment. P.S. This marks the fourth time today I\\'ve seen and heard the song, \"I\\'ll Be Glad When You\\'re Dead You Rascal You\" performed on film, this time by Davis. Must have been a very popular song about this time.'],\n",
       "       ...,\n",
       "       ['First of all,there is a detective story:\"légitime défense\" by Belgian Stanislas André Steeman whose \"l\\'assassin habite au 21\" Clouzot had already transferred to the screen in 1942,with Pierre Fresnay and the same actress Suzy Delair.Steeman complained about Clouzot\\'s adaptation for both movies.The movie from 1942 was excellent,but the \"detective story\" side had been kept,so why complaining?As for \"Quai des orfèvres\",Clouzot was now in a new phase of his brilliant career.After having directed \"le corbeau\" and been blacklisted,he had a lot more to say than a simple whodunit.Steeman complained essentially about the poor detective ending,which I will not reveal of course,but Clouzot focused on the social vignettes,on his characters\\'s psychology,and he did not give a damn about the puzzle à la Agatha Christie.By doing so,he becomes the genuine predecessor of CLaude Chabrol who has always been closer to him than to Alfred Hitchcock whom he admires much though. Suzy Delair has great screen presence,and you will love the song she really sings(she was a singer too)\"avec son tralala\".Bernard Blier gives ,as ever,a sparing of gestures and words performance,and he really pulls it off .Two characters are particularly interesting and disturbing:the first one,Dora,the photographer:she takes pictures of female models ,and Clouzot,by subtle touches,reveals us she\\'s a lesbian.Of course,the word is never uttered(How could it be in 1947?) The police chief (fabulous Louis Jouvet) tells her:\"You and me,WE are not lucky with women.\"The portrait of this cop is very detailed:we learn a lot of things about him,not necessary connected with the Delair/Blier plot:he\\'s a widower ,with a son he adores and who runs into school difficulties,particularly in geometry.So we get to know all the characters in depth.One of the most important manifesto of post-war French cinema.'],\n",
       "       [\"This movie grabbed me with the incredible opening sequence which tricked me into a complete reversal of perspective, so I was hooked by the time the title came on. The theme of this movie is that everyone is acting, trying to re-invent themselves, but not in a tricky way like Identity or the Usual Suspects, but in the way we all try to make whatever banal life we find ourselves in a little more interesting. The scenes in the chicken warehouses are spectacular. At one point Jorgen (who owns the chicken farm) attends a seminar in laughing, where he's the worst student. His discomfort at this lets you see the depth of his yearning to change himself. The movie made me wonder about the hidden mysteries that lie behind the surface of the most commonplace people I see every day. There's not a lot of plot here. Guessing the old man's secret is pretty easy, but the fascination lies in trying to guess what all the other characters will do when they figure it out. This movie appealed to me in the same way that Sideways did, although the characters couldn't be more dissimilar.\"],\n",
       "       [\"I saw this film at SXSW with the director in attendance. Quite a few people walked out, and the audience could barely muster even polite applause at the end. Of the 60 or 70 films I've seen at this festival, Frownland is among the worst.<br /><br />At 106 minutes, it is at least 95 minutes too long. You get to watch the main character's failed and drawn out attempts to communicate, in extended real time. The same grimaces, hand over mouth motions, kinetic and frantically repeated words and syllables over and over and over again - WE GET THE POINT.<br /><br />One site actually compares this work to early Mike Leigh. What drugs would you have to be on to make that statement? Given that Frownland is a Captain Beefheart song, maybe you'd have to be able to enjoy Trout Mask Replica on heavy rotation to appreciate this film. Unbelievably, this won a jury award at the festival. You can bet it did not win an audience award.\"]],\n",
       "      dtype=object)"
      ]
     },
     "execution_count": 12,
     "metadata": {},
     "output_type": "execute_result"
    }
   ],
   "source": [
    "x_test "
   ]
  },
  {
   "cell_type": "code",
   "execution_count": 13,
   "id": "6c82f133",
   "metadata": {},
   "outputs": [
    {
     "data": {
      "text/plain": [
       "array([1, 0, 0, ..., 1, 1, 0])"
      ]
     },
     "execution_count": 13,
     "metadata": {},
     "output_type": "execute_result"
    }
   ],
   "source": [
    "y_test"
   ]
  },
  {
   "cell_type": "code",
   "execution_count": 14,
   "id": "363c18e8",
   "metadata": {},
   "outputs": [],
   "source": [
    "x_train = x_train.tolist()\n",
    "x_test = x_test.tolist()"
   ]
  },
  {
   "cell_type": "code",
   "execution_count": 15,
   "id": "41b0ccca",
   "metadata": {},
   "outputs": [],
   "source": [
    "x_train = [str(review).lower() for review in x_train]\n",
    "x_test = [str(review).lower() for review in x_test]"
   ]
  },
  {
   "cell_type": "code",
   "execution_count": 16,
   "id": "9c69600a",
   "metadata": {},
   "outputs": [],
   "source": [
    "from sklearn.feature_extraction.text import TfidfVectorizer"
   ]
  },
  {
   "cell_type": "code",
   "execution_count": 17,
   "id": "d94a86c0",
   "metadata": {},
   "outputs": [
    {
     "data": {
      "text/plain": [
       "<40000x5000 sparse matrix of type '<class 'numpy.float64'>'\n",
       "\twith 4685222 stored elements in Compressed Sparse Row format>"
      ]
     },
     "execution_count": 17,
     "metadata": {},
     "output_type": "execute_result"
    }
   ],
   "source": [
    "tf = TfidfVectorizer(max_features=5000)\n",
    "x_train = tf.fit_transform(x_train)\n",
    "x_test = tf.transform(x_test)\n",
    "x_train"
   ]
  },
  {
   "cell_type": "code",
   "execution_count": 18,
   "id": "077e7f97",
   "metadata": {},
   "outputs": [
    {
     "data": {
      "text/plain": [
       "<10000x5000 sparse matrix of type '<class 'numpy.float64'>'\n",
       "\twith 1178174 stored elements in Compressed Sparse Row format>"
      ]
     },
     "execution_count": 18,
     "metadata": {},
     "output_type": "execute_result"
    }
   ],
   "source": [
    "x_test"
   ]
  },
  {
   "cell_type": "code",
   "execution_count": 19,
   "id": "8c60b43a",
   "metadata": {},
   "outputs": [],
   "source": [
    "from sklearn.naive_bayes import MultinomialNB"
   ]
  },
  {
   "cell_type": "code",
   "execution_count": 20,
   "id": "a4966b95",
   "metadata": {},
   "outputs": [
    {
     "data": {
      "text/plain": [
       "array([1, 0, 1, ..., 1, 1, 0])"
      ]
     },
     "execution_count": 20,
     "metadata": {},
     "output_type": "execute_result"
    }
   ],
   "source": [
    "mnb = MultinomialNB()\n",
    "model = mnb.fit(x_train,y_train)\n",
    "y_prediction = model.predict(x_test)\n",
    "y_prediction"
   ]
  },
  {
   "cell_type": "code",
   "execution_count": 21,
   "id": "c679cf7f",
   "metadata": {},
   "outputs": [],
   "source": [
    "from sklearn.metrics import accuracy_score"
   ]
  },
  {
   "cell_type": "code",
   "execution_count": 22,
   "id": "ed59a504",
   "metadata": {},
   "outputs": [
    {
     "name": "stdout",
     "output_type": "stream",
     "text": [
      "naive bayes accuracy score = 0.8477\n"
     ]
    }
   ],
   "source": [
    "print(\"naive bayes accuracy score =\",accuracy_score(y_test, y_prediction))"
   ]
  },
  {
   "cell_type": "code",
   "execution_count": 23,
   "id": "7156ec1d",
   "metadata": {},
   "outputs": [],
   "source": [
    "from sklearn.metrics import classification_report"
   ]
  },
  {
   "cell_type": "code",
   "execution_count": 24,
   "id": "09fef6c8",
   "metadata": {},
   "outputs": [
    {
     "name": "stdout",
     "output_type": "stream",
     "text": [
      "naive bayes Classification Report:               precision    recall  f1-score   support\n",
      "\n",
      "           0       0.85      0.85      0.85      5035\n",
      "           1       0.85      0.85      0.85      4965\n",
      "\n",
      "    accuracy                           0.85     10000\n",
      "   macro avg       0.85      0.85      0.85     10000\n",
      "weighted avg       0.85      0.85      0.85     10000\n",
      "\n"
     ]
    }
   ],
   "source": [
    "print(\"naive bayes Classification Report:\",classification_report(y_test, y_prediction))"
   ]
  },
  {
   "cell_type": "code",
   "execution_count": 25,
   "id": "2916d316",
   "metadata": {},
   "outputs": [],
   "source": [
    "from sklearn.ensemble import RandomForestClassifier"
   ]
  },
  {
   "cell_type": "code",
   "execution_count": 26,
   "id": "1ffb7c0c",
   "metadata": {},
   "outputs": [
    {
     "data": {
      "text/plain": [
       "array([1, 0, 1, ..., 1, 0, 0])"
      ]
     },
     "execution_count": 26,
     "metadata": {},
     "output_type": "execute_result"
    }
   ],
   "source": [
    "rfc = RandomForestClassifier()\n",
    "model1 = rfc.fit(x_train,y_train)\n",
    "y_prediction2 = model1.predict(x_test)\n",
    "y_prediction2"
   ]
  },
  {
   "cell_type": "code",
   "execution_count": 27,
   "id": "1983d2f3",
   "metadata": {},
   "outputs": [
    {
     "name": "stdout",
     "output_type": "stream",
     "text": [
      "Random Forest Classifier accuracy score = 0.839\n"
     ]
    }
   ],
   "source": [
    "print(\"Random Forest Classifier accuracy score =\",accuracy_score(y_test, y_prediction2))"
   ]
  },
  {
   "cell_type": "code",
   "execution_count": 28,
   "id": "8f477b21",
   "metadata": {},
   "outputs": [
    {
     "name": "stdout",
     "output_type": "stream",
     "text": [
      "Random Forest Classification Report:               precision    recall  f1-score   support\n",
      "\n",
      "           0       0.84      0.85      0.84      5035\n",
      "           1       0.84      0.83      0.84      4965\n",
      "\n",
      "    accuracy                           0.84     10000\n",
      "   macro avg       0.84      0.84      0.84     10000\n",
      "weighted avg       0.84      0.84      0.84     10000\n",
      "\n"
     ]
    }
   ],
   "source": [
    "print(\"Random Forest Classification Report:\",classification_report(y_test, y_prediction2))"
   ]
  },
  {
   "cell_type": "code",
   "execution_count": 29,
   "id": "d22150d4",
   "metadata": {},
   "outputs": [],
   "source": [
    "from sklearn.neighbors import KNeighborsClassifier"
   ]
  },
  {
   "cell_type": "code",
   "execution_count": 30,
   "id": "d200c5cd",
   "metadata": {},
   "outputs": [
    {
     "data": {
      "text/plain": [
       "array([1, 0, 1, ..., 1, 0, 0])"
      ]
     },
     "execution_count": 30,
     "metadata": {},
     "output_type": "execute_result"
    }
   ],
   "source": [
    "knn = KNeighborsClassifier()\n",
    "model2 = knn.fit(x_train,y_train)\n",
    "y_prediction3 = model2.predict(x_test)\n",
    "y_prediction3"
   ]
  },
  {
   "cell_type": "code",
   "execution_count": 31,
   "id": "18e31e7b",
   "metadata": {},
   "outputs": [
    {
     "name": "stdout",
     "output_type": "stream",
     "text": [
      "knn accuracy score = 0.7214\n"
     ]
    }
   ],
   "source": [
    "print(\"knn accuracy score =\",accuracy_score(y_test, y_prediction3))"
   ]
  },
  {
   "cell_type": "code",
   "execution_count": 32,
   "id": "a6e7fdf5",
   "metadata": {},
   "outputs": [
    {
     "name": "stdout",
     "output_type": "stream",
     "text": [
      "knn Classification Report:               precision    recall  f1-score   support\n",
      "\n",
      "           0       0.75      0.68      0.71      5035\n",
      "           1       0.70      0.77      0.73      4965\n",
      "\n",
      "    accuracy                           0.72     10000\n",
      "   macro avg       0.72      0.72      0.72     10000\n",
      "weighted avg       0.72      0.72      0.72     10000\n",
      "\n"
     ]
    }
   ],
   "source": [
    "print(\"knn Classification Report:\",classification_report(y_test, y_prediction3))"
   ]
  },
  {
   "cell_type": "code",
   "execution_count": 33,
   "id": "6e8f1d0b",
   "metadata": {},
   "outputs": [],
   "source": [
    "from xgboost import XGBClassifier"
   ]
  },
  {
   "cell_type": "code",
   "execution_count": 34,
   "id": "267f51db",
   "metadata": {},
   "outputs": [
    {
     "data": {
      "text/plain": [
       "array([1, 0, 1, ..., 1, 0, 0])"
      ]
     },
     "execution_count": 34,
     "metadata": {},
     "output_type": "execute_result"
    }
   ],
   "source": [
    "xgb = XGBClassifier()\n",
    "model3 = xgb.fit(x_train,y_train)\n",
    "y_prediction4 = model3.predict(x_test)\n",
    "y_prediction4"
   ]
  },
  {
   "cell_type": "code",
   "execution_count": 35,
   "id": "99c6346f",
   "metadata": {},
   "outputs": [
    {
     "name": "stdout",
     "output_type": "stream",
     "text": [
      "xgboosting accuracy score = 0.8571\n"
     ]
    }
   ],
   "source": [
    "print(\"xgboosting accuracy score =\",accuracy_score(y_test, y_prediction4))"
   ]
  },
  {
   "cell_type": "code",
   "execution_count": 36,
   "id": "3b159dd2",
   "metadata": {},
   "outputs": [
    {
     "name": "stdout",
     "output_type": "stream",
     "text": [
      "xgboosting Classification Report:               precision    recall  f1-score   support\n",
      "\n",
      "           0       0.87      0.84      0.86      5035\n",
      "           1       0.84      0.87      0.86      4965\n",
      "\n",
      "    accuracy                           0.86     10000\n",
      "   macro avg       0.86      0.86      0.86     10000\n",
      "weighted avg       0.86      0.86      0.86     10000\n",
      "\n"
     ]
    }
   ],
   "source": [
    "print(\"xgboosting Classification Report:\",classification_report(y_test, y_prediction4))"
   ]
  },
  {
   "cell_type": "code",
   "execution_count": 37,
   "id": "745f4e7f",
   "metadata": {},
   "outputs": [],
   "source": [
    "from sklearn.linear_model import LogisticRegression"
   ]
  },
  {
   "cell_type": "code",
   "execution_count": 38,
   "id": "24eca622",
   "metadata": {},
   "outputs": [
    {
     "data": {
      "text/plain": [
       "array([1, 0, 1, ..., 1, 0, 0])"
      ]
     },
     "execution_count": 38,
     "metadata": {},
     "output_type": "execute_result"
    }
   ],
   "source": [
    "lr = LogisticRegression()\n",
    "model4 = lr.fit(x_train,y_train)\n",
    "y_prediction5 = model4.predict(x_test)\n",
    "y_prediction5"
   ]
  },
  {
   "cell_type": "code",
   "execution_count": 39,
   "id": "36d43d3e",
   "metadata": {},
   "outputs": [
    {
     "name": "stdout",
     "output_type": "stream",
     "text": [
      "Logistic Regression accuracy score = 0.887\n"
     ]
    }
   ],
   "source": [
    "print(\"Logistic Regression accuracy score =\",accuracy_score(y_test, y_prediction5))"
   ]
  },
  {
   "cell_type": "code",
   "execution_count": 40,
   "id": "8e647236",
   "metadata": {},
   "outputs": [
    {
     "name": "stdout",
     "output_type": "stream",
     "text": [
      "Logistic Regression Classification Report:               precision    recall  f1-score   support\n",
      "\n",
      "           0       0.90      0.88      0.89      5035\n",
      "           1       0.88      0.90      0.89      4965\n",
      "\n",
      "    accuracy                           0.89     10000\n",
      "   macro avg       0.89      0.89      0.89     10000\n",
      "weighted avg       0.89      0.89      0.89     10000\n",
      "\n"
     ]
    }
   ],
   "source": [
    "print(\"Logistic Regression Classification Report:\",classification_report(y_test, y_prediction5))"
   ]
  },
  {
   "cell_type": "code",
   "execution_count": 41,
   "id": "4551934b",
   "metadata": {},
   "outputs": [],
   "source": [
    "from sklearn.tree import DecisionTreeClassifier"
   ]
  },
  {
   "cell_type": "code",
   "execution_count": 42,
   "id": "722e2b11",
   "metadata": {},
   "outputs": [
    {
     "data": {
      "text/plain": [
       "array([0, 0, 0, ..., 1, 0, 0])"
      ]
     },
     "execution_count": 42,
     "metadata": {},
     "output_type": "execute_result"
    }
   ],
   "source": [
    "dtc = DecisionTreeClassifier()\n",
    "model5 = dtc.fit(x_train,y_train)\n",
    "y_prediction6 = model5.predict(x_test)\n",
    "y_prediction6"
   ]
  },
  {
   "cell_type": "code",
   "execution_count": 43,
   "id": "99aa55da",
   "metadata": {},
   "outputs": [
    {
     "name": "stdout",
     "output_type": "stream",
     "text": [
      "Descision Tree Classifier accuracy score = 0.7195\n"
     ]
    }
   ],
   "source": [
    "print(\"Descision Tree Classifier accuracy score =\",accuracy_score(y_test, y_prediction6))"
   ]
  },
  {
   "cell_type": "code",
   "execution_count": 44,
   "id": "f9430eb1",
   "metadata": {},
   "outputs": [
    {
     "name": "stdout",
     "output_type": "stream",
     "text": [
      "Descision Tree Classification Report:               precision    recall  f1-score   support\n",
      "\n",
      "           0       0.72      0.72      0.72      5035\n",
      "           1       0.72      0.72      0.72      4965\n",
      "\n",
      "    accuracy                           0.72     10000\n",
      "   macro avg       0.72      0.72      0.72     10000\n",
      "weighted avg       0.72      0.72      0.72     10000\n",
      "\n"
     ]
    }
   ],
   "source": [
    "print(\"Descision Tree Classification Report:\",classification_report(y_test, y_prediction6))"
   ]
  }
 ],
 "metadata": {
  "kernelspec": {
   "display_name": "Python 3 (ipykernel)",
   "language": "python",
   "name": "python3"
  },
  "language_info": {
   "codemirror_mode": {
    "name": "ipython",
    "version": 3
   },
   "file_extension": ".py",
   "mimetype": "text/x-python",
   "name": "python",
   "nbconvert_exporter": "python",
   "pygments_lexer": "ipython3",
   "version": "3.11.4"
  }
 },
 "nbformat": 4,
 "nbformat_minor": 5
}
